{
 "cells": [
  {
   "cell_type": "markdown",
   "metadata": {},
   "source": [
    "# Predicting gender from blog post"
   ]
  },
  {
   "cell_type": "markdown",
   "metadata": {},
   "source": [
    "## Note to Preet: In this notebook I'm combining some categories and taking out \"Industry Unknown\". My f1 score is MUCH better when I do this. However, I'm not sure it's appropriate because I'm predicting 'gender' here and I'm not even adding 'topic' as a feature.\n",
    "\n",
    "## Plot distribution of word counts\n",
    "## Plotted ROC curve\n",
    "## Need to plot most common words by category"
   ]
  },
  {
   "cell_type": "code",
   "execution_count": 40,
   "metadata": {},
   "outputs": [],
   "source": [
    "import logging\n",
    "logging.basicConfig(level=logging.WARNING)"
   ]
  },
  {
   "cell_type": "code",
   "execution_count": 1,
   "metadata": {},
   "outputs": [],
   "source": [
    "import pandas as pd\n",
    "import numpy as np\n",
    "import matplotlib.pyplot as plt\n",
    "import seaborn as sns\n",
    "sns.set(style='darkgrid')\n",
    "df = pd.read_csv('blogtext.csv', parse_dates = ['date']).sample(8000)"
   ]
  },
  {
   "cell_type": "code",
   "execution_count": 2,
   "metadata": {},
   "outputs": [
    {
     "data": {
      "text/html": [
       "<div>\n",
       "<style scoped>\n",
       "    .dataframe tbody tr th:only-of-type {\n",
       "        vertical-align: middle;\n",
       "    }\n",
       "\n",
       "    .dataframe tbody tr th {\n",
       "        vertical-align: top;\n",
       "    }\n",
       "\n",
       "    .dataframe thead th {\n",
       "        text-align: right;\n",
       "    }\n",
       "</style>\n",
       "<table border=\"1\" class=\"dataframe\">\n",
       "  <thead>\n",
       "    <tr style=\"text-align: right;\">\n",
       "      <th></th>\n",
       "      <th>id</th>\n",
       "      <th>gender</th>\n",
       "      <th>age</th>\n",
       "      <th>topic</th>\n",
       "      <th>sign</th>\n",
       "      <th>date</th>\n",
       "      <th>text</th>\n",
       "    </tr>\n",
       "  </thead>\n",
       "  <tbody>\n",
       "    <tr>\n",
       "      <th>0</th>\n",
       "      <td>2581469</td>\n",
       "      <td>female</td>\n",
       "      <td>23</td>\n",
       "      <td>Student</td>\n",
       "      <td>Pisces</td>\n",
       "      <td>30,July,2004</td>\n",
       "      <td>urlLink    the beginning of a box offi...</td>\n",
       "    </tr>\n",
       "    <tr>\n",
       "      <th>1</th>\n",
       "      <td>3441102</td>\n",
       "      <td>male</td>\n",
       "      <td>15</td>\n",
       "      <td>Student</td>\n",
       "      <td>Libra</td>\n",
       "      <td>04,June,2004</td>\n",
       "      <td>Haven't blogged in a long time, and I'm...</td>\n",
       "    </tr>\n",
       "    <tr>\n",
       "      <th>2</th>\n",
       "      <td>3298085</td>\n",
       "      <td>female</td>\n",
       "      <td>38</td>\n",
       "      <td>Technology</td>\n",
       "      <td>Capricorn</td>\n",
       "      <td>05,August,2004</td>\n",
       "      <td>I called my Therapist and told her abou...</td>\n",
       "    </tr>\n",
       "    <tr>\n",
       "      <th>3</th>\n",
       "      <td>3666636</td>\n",
       "      <td>female</td>\n",
       "      <td>24</td>\n",
       "      <td>Advertising</td>\n",
       "      <td>Virgo</td>\n",
       "      <td>17,June,2004</td>\n",
       "      <td>I have been inspired. I now have a blog...</td>\n",
       "    </tr>\n",
       "    <tr>\n",
       "      <th>4</th>\n",
       "      <td>3888550</td>\n",
       "      <td>female</td>\n",
       "      <td>25</td>\n",
       "      <td>Publishing</td>\n",
       "      <td>Sagittarius</td>\n",
       "      <td>23,July,2004</td>\n",
       "      <td>Ahh despite not being hungove...</td>\n",
       "    </tr>\n",
       "  </tbody>\n",
       "</table>\n",
       "</div>"
      ],
      "text/plain": [
       "        id  gender  age        topic         sign            date  \\\n",
       "0  2581469  female   23      Student       Pisces    30,July,2004   \n",
       "1  3441102    male   15      Student        Libra    04,June,2004   \n",
       "2  3298085  female   38   Technology    Capricorn  05,August,2004   \n",
       "3  3666636  female   24  Advertising        Virgo    17,June,2004   \n",
       "4  3888550  female   25   Publishing  Sagittarius    23,July,2004   \n",
       "\n",
       "                                                text  \n",
       "0          urlLink    the beginning of a box offi...  \n",
       "1         Haven't blogged in a long time, and I'm...  \n",
       "2         I called my Therapist and told her abou...  \n",
       "3         I have been inspired. I now have a blog...  \n",
       "4                   Ahh despite not being hungove...  "
      ]
     },
     "execution_count": 2,
     "metadata": {},
     "output_type": "execute_result"
    }
   ],
   "source": [
    "df = df[df['topic']!='indUnk'].copy()\n",
    "# df = df[df['topic']!='Student'].copy()\n",
    "df.reset_index(drop=True, inplace=True)\n",
    "df.head()"
   ]
  },
  {
   "cell_type": "code",
   "execution_count": 15,
   "metadata": {},
   "outputs": [
    {
     "data": {
      "text/plain": [
       "<matplotlib.axes._subplots.AxesSubplot at 0x7efcda0ec470>"
      ]
     },
     "execution_count": 15,
     "metadata": {},
     "output_type": "execute_result"
    },
    {
     "data": {
      "image/png": "[encoded data removed]",
      "text/plain": [
       "<Figure size 648x648 with 1 Axes>"
      ]
     },
     "metadata": {
      "needs_background": "light"
     },
     "output_type": "display_data"
    }
   ],
   "source": [
    "#Removing all classes but the 20 most populous.\n",
    "# most_pop = list(df.groupby('topic')['topic'].agg('count').sort_values(ascending=False)[:20].index)\n",
    "# df = df[df['topic'].isin(most_pop)]\n",
    "# print(df.shape)\n",
    "plt.figure(figsize=(9,9))\n",
    "df['topic'].value_counts().plot('bar')\n",
    "#A lot of these classes are super similar. I might need to combine them."
   ]
  },
  {
   "cell_type": "markdown",
   "metadata": {},
   "source": [
    "# Alright, time to combine a few categories"
   ]
  },
  {
   "cell_type": "code",
   "execution_count": null,
   "metadata": {},
   "outputs": [],
   "source": [
    "# #First create a new column for edited categories\n",
    "# TYPEDICT = {'Advertising':'Marketing', 'Internet':'Technology', \n",
    "#             'BusinessServices':'Consulting', 'Telecommunications':'Communications-Media', \n",
    "#             'Publishing':'Communications-Media', 'Government':'Law', 'Banking': 'Finance', \n",
    "#             'Accounting': 'Finance', 'Science': 'Science&Engineering', 'Engineering':'Science&Engineering'}\n",
    "# df['custom_topic'] = df['topic'].map(lambda x: TYPEDICT[x] if x in TYPEDICT else x)"
   ]
  },
  {
   "cell_type": "code",
   "execution_count": 3,
   "metadata": {},
   "outputs": [],
   "source": [
    "# df['custom_topic'].value_counts().plot('bar')\n",
    "import spacy\n",
    "import gensim\n",
    "from nltk.corpus import stopwords\n",
    "from gensim.parsing.preprocessing import strip_short\n",
    "from symspellpy import SymSpell, Verbosity\n",
    "import pkg_resources\n",
    "import re\n",
    "nlp = spacy.load('en_core_web_sm')\n",
    "\n",
    "sym_spell = SymSpell(max_dictionary_edit_distance=2, prefix_length=7)\n",
    "dictionary_path = pkg_resources.resource_filename(\"symspellpy\", \"frequency_dictionary_en_82_765.txt\")\n",
    "sym_spell.load_dictionary(dictionary_path, term_index=0, count_index=1)\n",
    "stops = [spacy.lang.en.stop_words.STOP_WORDS] + stopwords.words('english')\n",
    "def clean_jv(doc):\n",
    "   typo_free = ' '.join([(sym_spell.lookup(i, Verbosity.CLOSEST, max_edit_distance=2, include_unknown=True)[0].term) for i in doc])\n",
    "   twol_free = strip_short(typo_free)\n",
    "   return twol_free\n",
    "def clean(lst):\n",
    "    lst = [token for token in lst if not token.is_stop]\n",
    "    lst = [token.lemma_ for token in lst if str(token.lemma_) not in stops]\n",
    "    lst = [re.sub(r'[\\W\\d\\s]', '', string) for string in lst]\n",
    "    lst = [token for token in lst if token not in stops]\n",
    "    while '' in lst:\n",
    "        lst.remove('')\n",
    "    lst = clean_jv(lst)\n",
    "    return lst"
   ]
  },
  {
   "cell_type": "code",
   "execution_count": 4,
   "metadata": {},
   "outputs": [],
   "source": [
    "df['tokens'] = df['text'].map(lambda x: nlp.tokenizer(x.lower()))\n",
    "df['tokens'] = df['tokens'].map(lambda x: clean(x).split())\n",
    "#Creating a single-string version of the cleaned texts, for tools that require it.\n",
    "df['token_str'] = df['tokens'].map(lambda x: ' '.join(x))\n",
    "doc_clean = df['tokens']\n",
    "bigram =gensim.models.Phrases(doc_clean, min_count = 5, threshold = 50)\n",
    "trigram =gensim.models.Phrases(bigram[doc_clean], min_count = 5, threshold = 50)\n",
    "bigram_mod = gensim.models.phrases.Phraser(bigram)\n",
    "trigram_mod = gensim.models.phrases.Phraser(trigram)\n",
    "def make_trigrams(texts):\n",
    "    return trigram_mod[bigram_mod[texts]]\n",
    "doc_trigram = df['tokens'].map(lambda x: make_trigrams(x))\n",
    "dct = gensim.corpora.Dictionary(doc_trigram)\n",
    "dct.filter_extremes(no_below=5, no_above=0.6666, keep_n=90000)\n",
    "doc_term_matrix = [dct.doc2bow(doc) for doc in doc_trigram]"
   ]
  },
  {
   "cell_type": "code",
   "execution_count": 91,
   "metadata": {},
   "outputs": [],
   "source": [
    "df['length'] = df['text'].map(len)\n",
    "df['tokenlen'] = df['tokens'].map(len)"
   ]
  },
  {
   "cell_type": "code",
   "execution_count": 17,
   "metadata": {},
   "outputs": [
    {
     "data": {
      "text/plain": [
       "['lazy',\n",
       " 'blog',\n",
       " 'jeremy',\n",
       " 'flick',\n",
       " 'lip',\n",
       " 'sit',\n",
       " 'beni',\n",
       " 'suppose',\n",
       " 'take',\n",
       " 'assignment',\n",
       " 'bite',\n",
       " 'good',\n",
       " 'fuck',\n",
       " 'knock',\n",
       " 'keyboard',\n",
       " 'say',\n",
       " 'hello',\n",
       " 'sushi',\n",
       " 'today',\n",
       " 'jeremy',\n",
       " 'cry',\n",
       " 'want',\n",
       " 'blog',\n",
       " 'bye']"
      ]
     },
     "execution_count": 17,
     "metadata": {},
     "output_type": "execute_result"
    }
   ],
   "source": [
    "#Taking a look at the results:\n",
    "df['token_str'].loc[5041]\n",
    "doc_term_matrix[0]\n",
    "doc_trigram[9]"
   ]
  },
  {
   "cell_type": "markdown",
   "metadata": {},
   "source": [
    "# Do word counts by gender"
   ]
  },
  {
   "cell_type": "code",
   "execution_count": 22,
   "metadata": {},
   "outputs": [
    {
     "data": {
      "text/plain": [
       "<matplotlib.axes._subplots.AxesSubplot at 0x7efc6de8b3c8>"
      ]
     },
     "execution_count": 22,
     "metadata": {},
     "output_type": "execute_result"
    },
    {
     "data": {
      "image/png": "[encoded data removed]",
      "text/plain": [
       "<Figure size 432x288 with 1 Axes>"
      ]
     },
     "metadata": {
      "needs_background": "light"
     },
     "output_type": "display_data"
    }
   ],
   "source": [
    "#Want to plot median word count by gender\n",
    "df.groupby('gender')['tokens'].agg('count').plot('bar')\n",
    "# plt.figure(figsize=(9,9))"
   ]
  },
  {
   "cell_type": "code",
   "execution_count": 32,
   "metadata": {},
   "outputs": [
    {
     "data": {
      "text/plain": [
       "88.07975580937376"
      ]
     },
     "execution_count": 32,
     "metadata": {},
     "output_type": "execute_result"
    }
   ],
   "source": [
    "# topics = list(df['custom_topic'].unique())\n",
    "#find average length of the blogposts by class\n",
    "def avlength(col):\n",
    "    col.reset_index(drop=True,inplace=True)\n",
    "    count = 0\n",
    "    for i in range(1,len(col)):\n",
    "        count += len(col[i])\n",
    "    return count/(len(col))\n",
    "avlength(df['tokens'])"
   ]
  },
  {
   "cell_type": "code",
   "execution_count": 93,
   "metadata": {},
   "outputs": [
    {
     "name": "stdout",
     "output_type": "stream",
     "text": [
      "87.84394904458598 88.34946714031972\n"
     ]
    }
   ],
   "source": [
    "male = df[df['gender']=='male']\n",
    "female = df[df['gender']=='female']\n",
    "male.shape\n",
    "female.shape\n",
    "df.shape\n",
    "print(avlength(male['tokens']), avlength(female['tokens']))\n",
    "#Male token lengths appear a bit longer."
   ]
  },
  {
   "cell_type": "code",
   "execution_count": 84,
   "metadata": {},
   "outputs": [
    {
     "data": {
      "text/plain": [
       "<matplotlib.axes._subplots.AxesSubplot at 0x7efc41a17128>"
      ]
     },
     "execution_count": 84,
     "metadata": {},
     "output_type": "execute_result"
    },
    {
     "name": "stderr",
     "output_type": "stream",
     "text": [
      "DEBUG:matplotlib.axes._base:update_title_pos\n",
      "DEBUG:matplotlib.axes._base:update_title_pos\n",
      "DEBUG:matplotlib.axes._base:update_title_pos\n",
      "DEBUG:matplotlib.axes._base:update_title_pos\n",
      "DEBUG:matplotlib.axes._base:update_title_pos\n"
     ]
    },
    {
     "data": {
      "image/png": "[encoded data removed]",
      "text/plain": [
       "<Figure size 432x288 with 1 Axes>"
      ]
     },
     "metadata": {
      "needs_background": "light"
     },
     "output_type": "display_data"
    }
   ],
   "source": [
    "df.age.value_counts().plot('bar')"
   ]
  },
  {
   "cell_type": "code",
   "execution_count": 86,
   "metadata": {},
   "outputs": [
    {
     "data": {
      "text/plain": [
       "<matplotlib.axes._subplots.AxesSubplot at 0x7efc418bd748>"
      ]
     },
     "execution_count": 86,
     "metadata": {},
     "output_type": "execute_result"
    },
    {
     "name": "stderr",
     "output_type": "stream",
     "text": [
      "DEBUG:matplotlib.axes._base:update_title_pos\n",
      "DEBUG:matplotlib.axes._base:update_title_pos\n",
      "DEBUG:matplotlib.axes._base:update_title_pos\n",
      "DEBUG:matplotlib.axes._base:update_title_pos\n",
      "DEBUG:matplotlib.axes._base:update_title_pos\n"
     ]
    },
    {
     "data": {
      "image/png": "[encoded data removed]",
      "text/plain": [
       "<Figure size 432x288 with 1 Axes>"
      ]
     },
     "metadata": {
      "needs_background": "light"
     },
     "output_type": "display_data"
    }
   ],
   "source": [
    "male.age.value_counts().plot('bar')"
   ]
  },
  {
   "cell_type": "code",
   "execution_count": 88,
   "metadata": {},
   "outputs": [
    {
     "data": {
      "text/plain": [
       "<matplotlib.axes._subplots.AxesSubplot at 0x7efc418df6d8>"
      ]
     },
     "execution_count": 88,
     "metadata": {},
     "output_type": "execute_result"
    },
    {
     "name": "stderr",
     "output_type": "stream",
     "text": [
      "DEBUG:matplotlib.axes._base:update_title_pos\n",
      "DEBUG:matplotlib.axes._base:update_title_pos\n",
      "DEBUG:matplotlib.axes._base:update_title_pos\n",
      "DEBUG:matplotlib.axes._base:update_title_pos\n",
      "DEBUG:matplotlib.axes._base:update_title_pos\n"
     ]
    },
    {
     "data": {
      "image/png": "[encoded data removed]",
      "text/plain": [
       "<Figure size 432x288 with 1 Axes>"
      ]
     },
     "metadata": {
      "needs_background": "light"
     },
     "output_type": "display_data"
    }
   ],
   "source": [
    "female.age.value_counts().plot('bar')"
   ]
  },
  {
   "cell_type": "code",
   "execution_count": 95,
   "metadata": {},
   "outputs": [
    {
     "data": {
      "text/plain": [
       "<matplotlib.axes._subplots.AxesSubplot at 0x7efc4021e9e8>"
      ]
     },
     "execution_count": 95,
     "metadata": {},
     "output_type": "execute_result"
    },
    {
     "name": "stderr",
     "output_type": "stream",
     "text": [
      "DEBUG:matplotlib.axes._base:update_title_pos\n",
      "DEBUG:matplotlib.axes._base:update_title_pos\n",
      "DEBUG:matplotlib.axes._base:update_title_pos\n",
      "DEBUG:matplotlib.axes._base:update_title_pos\n",
      "DEBUG:matplotlib.axes._base:update_title_pos\n"
     ]
    },
    {
     "data": {
      "image/png": "[encoded data removed]",
      "text/plain": [
       "<Figure size 432x288 with 1 Axes>"
      ]
     },
     "metadata": {
      "needs_background": "light"
     },
     "output_type": "display_data"
    }
   ],
   "source": [
    "import seaborn as sns\n",
    "sns.distplot(male['length'])"
   ]
  },
  {
   "cell_type": "code",
   "execution_count": 98,
   "metadata": {},
   "outputs": [
    {
     "data": {
      "text/plain": [
       "<matplotlib.axes._subplots.AxesSubplot at 0x7efc3f338a20>"
      ]
     },
     "execution_count": 98,
     "metadata": {},
     "output_type": "execute_result"
    },
    {
     "name": "stderr",
     "output_type": "stream",
     "text": [
      "DEBUG:matplotlib.axes._base:update_title_pos\n",
      "DEBUG:matplotlib.axes._base:update_title_pos\n",
      "DEBUG:matplotlib.axes._base:update_title_pos\n",
      "DEBUG:matplotlib.axes._base:update_title_pos\n",
      "DEBUG:matplotlib.axes._base:update_title_pos\n"
     ]
    },
    {
     "data": {
      "image/png": "[encoded data removed]",
      "text/plain": [
       "<Figure size 432x288 with 1 Axes>"
      ]
     },
     "metadata": {
      "needs_background": "light"
     },
     "output_type": "display_data"
    }
   ],
   "source": [
    "sns.distplot(female['length'])"
   ]
  },
  {
   "cell_type": "code",
   "execution_count": 101,
   "metadata": {},
   "outputs": [
    {
     "name": "stderr",
     "output_type": "stream",
     "text": [
      "WARNING:gensim.models.base_any2vec:consider setting layer size to a multiple of 4 for greater performance\n",
      "INFO:gensim.models.word2vec:collecting all words and their counts\n",
      "INFO:gensim.models.word2vec:PROGRESS: at sentence #0, processed 0 words, keeping 0 word types\n",
      "INFO:gensim.models.word2vec:collected 21785 word types from a corpus of 248306 raw words and 2826 sentences\n",
      "INFO:gensim.models.word2vec:Loading a fresh vocabulary\n",
      "INFO:gensim.models.word2vec:effective_min_count=4 retains 7145 unique words (32% of original 21785, drops 14640)\n",
      "INFO:gensim.models.word2vec:effective_min_count=4 leaves 227196 word corpus (91% of original 248306, drops 21110)\n",
      "INFO:gensim.models.word2vec:deleting the raw counts dictionary of 21785 items\n",
      "INFO:gensim.models.word2vec:sample=0.001 downsamples 37 most-common words\n",
      "INFO:gensim.models.word2vec:downsampling leaves estimated 215628 word corpus (94.9% of prior 227196)\n",
      "INFO:gensim.models.base_any2vec:estimated required memory for 7145 words and 275 dimensions: 19291500 bytes\n",
      "INFO:gensim.models.word2vec:resetting layer weights\n",
      "INFO:gensim.models.base_any2vec:training model with 3 workers on 7145 vocabulary and 275 features, using sg=0 hs=0 sample=0.001 negative=5 window=8\n",
      "DEBUG:gensim.models.base_any2vec:job loop exiting, total 26 jobs\n",
      "DEBUG:gensim.models.base_any2vec:worker exiting, processed 7 jobs\n",
      "INFO:gensim.models.base_any2vec:worker thread finished; awaiting finish of 2 more threads\n",
      "DEBUG:gensim.models.base_any2vec:worker exiting, processed 10 jobs\n",
      "INFO:gensim.models.base_any2vec:worker thread finished; awaiting finish of 1 more threads\n",
      "DEBUG:gensim.models.base_any2vec:worker exiting, processed 9 jobs\n",
      "INFO:gensim.models.base_any2vec:worker thread finished; awaiting finish of 0 more threads\n",
      "INFO:gensim.models.base_any2vec:EPOCH - 1 : training on 248306 raw words (215584 effective words) took 0.5s, 405635 effective words/s\n",
      "DEBUG:gensim.models.base_any2vec:job loop exiting, total 26 jobs\n",
      "DEBUG:gensim.models.base_any2vec:worker exiting, processed 8 jobs\n",
      "INFO:gensim.models.base_any2vec:worker thread finished; awaiting finish of 2 more threads\n",
      "DEBUG:gensim.models.base_any2vec:worker exiting, processed 10 jobs\n",
      "INFO:gensim.models.base_any2vec:worker thread finished; awaiting finish of 1 more threads\n",
      "DEBUG:gensim.models.base_any2vec:worker exiting, processed 8 jobs\n",
      "INFO:gensim.models.base_any2vec:worker thread finished; awaiting finish of 0 more threads\n",
      "INFO:gensim.models.base_any2vec:EPOCH - 2 : training on 248306 raw words (215666 effective words) took 0.5s, 395397 effective words/s\n",
      "DEBUG:gensim.models.base_any2vec:job loop exiting, total 26 jobs\n",
      "DEBUG:gensim.models.base_any2vec:worker exiting, processed 9 jobs\n",
      "INFO:gensim.models.base_any2vec:worker thread finished; awaiting finish of 2 more threads\n",
      "DEBUG:gensim.models.base_any2vec:worker exiting, processed 10 jobs\n",
      "INFO:gensim.models.base_any2vec:worker thread finished; awaiting finish of 1 more threads\n",
      "DEBUG:gensim.models.base_any2vec:worker exiting, processed 7 jobs\n",
      "INFO:gensim.models.base_any2vec:worker thread finished; awaiting finish of 0 more threads\n",
      "INFO:gensim.models.base_any2vec:EPOCH - 3 : training on 248306 raw words (215616 effective words) took 0.6s, 336528 effective words/s\n",
      "DEBUG:gensim.models.base_any2vec:job loop exiting, total 26 jobs\n",
      "DEBUG:gensim.models.base_any2vec:worker exiting, processed 10 jobs\n",
      "INFO:gensim.models.base_any2vec:worker thread finished; awaiting finish of 2 more threads\n",
      "DEBUG:gensim.models.base_any2vec:worker exiting, processed 10 jobs\n",
      "INFO:gensim.models.base_any2vec:worker thread finished; awaiting finish of 1 more threads\n",
      "DEBUG:gensim.models.base_any2vec:worker exiting, processed 6 jobs\n",
      "INFO:gensim.models.base_any2vec:worker thread finished; awaiting finish of 0 more threads\n",
      "INFO:gensim.models.base_any2vec:EPOCH - 4 : training on 248306 raw words (215838 effective words) took 0.6s, 390068 effective words/s\n",
      "DEBUG:gensim.models.base_any2vec:job loop exiting, total 26 jobs\n",
      "DEBUG:gensim.models.base_any2vec:worker exiting, processed 8 jobs\n",
      "INFO:gensim.models.base_any2vec:worker thread finished; awaiting finish of 2 more threads\n",
      "DEBUG:gensim.models.base_any2vec:worker exiting, processed 8 jobs\n",
      "INFO:gensim.models.base_any2vec:worker thread finished; awaiting finish of 1 more threads\n",
      "DEBUG:gensim.models.base_any2vec:worker exiting, processed 10 jobs\n",
      "INFO:gensim.models.base_any2vec:worker thread finished; awaiting finish of 0 more threads\n",
      "INFO:gensim.models.base_any2vec:EPOCH - 5 : training on 248306 raw words (215560 effective words) took 0.6s, 341884 effective words/s\n",
      "INFO:gensim.models.base_any2vec:training on a 1241530 raw words (1078264 effective words) took 3.0s, 361942 effective words/s\n",
      "WARNING:gensim.models.base_any2vec:consider setting layer size to a multiple of 4 for greater performance\n",
      "INFO:gensim.models.word2vec:collecting all words and their counts\n",
      "INFO:gensim.models.word2vec:PROGRESS: at sentence #0, processed 0 words, keeping 0 word types\n",
      "INFO:gensim.models.word2vec:collected 18461 word types from a corpus of 198968 raw words and 2252 sentences\n",
      "INFO:gensim.models.word2vec:Loading a fresh vocabulary\n",
      "INFO:gensim.models.word2vec:effective_min_count=4 retains 5906 unique words (31% of original 18461, drops 12555)\n",
      "INFO:gensim.models.word2vec:effective_min_count=4 leaves 180855 word corpus (90% of original 198968, drops 18113)\n",
      "INFO:gensim.models.word2vec:deleting the raw counts dictionary of 18461 items\n",
      "INFO:gensim.models.word2vec:sample=0.001 downsamples 45 most-common words\n",
      "INFO:gensim.models.word2vec:downsampling leaves estimated 168538 word corpus (93.2% of prior 180855)\n",
      "INFO:gensim.models.base_any2vec:estimated required memory for 5906 words and 275 dimensions: 15946200 bytes\n",
      "INFO:gensim.models.word2vec:resetting layer weights\n",
      "INFO:gensim.models.base_any2vec:training model with 3 workers on 5906 vocabulary and 275 features, using sg=0 hs=0 sample=0.001 negative=5 window=8\n",
      "DEBUG:gensim.models.base_any2vec:job loop exiting, total 21 jobs\n",
      "DEBUG:gensim.models.base_any2vec:worker exiting, processed 7 jobs\n",
      "INFO:gensim.models.base_any2vec:worker thread finished; awaiting finish of 2 more threads\n",
      "DEBUG:gensim.models.base_any2vec:worker exiting, processed 6 jobs\n",
      "INFO:gensim.models.base_any2vec:worker thread finished; awaiting finish of 1 more threads\n",
      "DEBUG:gensim.models.base_any2vec:worker exiting, processed 8 jobs\n",
      "INFO:gensim.models.base_any2vec:worker thread finished; awaiting finish of 0 more threads\n",
      "INFO:gensim.models.base_any2vec:EPOCH - 1 : training on 198968 raw words (168544 effective words) took 0.5s, 307787 effective words/s\n",
      "DEBUG:gensim.models.base_any2vec:job loop exiting, total 21 jobs\n",
      "DEBUG:gensim.models.base_any2vec:worker exiting, processed 6 jobs\n",
      "INFO:gensim.models.base_any2vec:worker thread finished; awaiting finish of 2 more threads\n",
      "DEBUG:gensim.models.base_any2vec:worker exiting, processed 8 jobs\n",
      "INFO:gensim.models.base_any2vec:worker thread finished; awaiting finish of 1 more threads\n",
      "DEBUG:gensim.models.base_any2vec:worker exiting, processed 7 jobs\n",
      "INFO:gensim.models.base_any2vec:worker thread finished; awaiting finish of 0 more threads\n",
      "INFO:gensim.models.base_any2vec:EPOCH - 2 : training on 198968 raw words (168387 effective words) took 0.5s, 337022 effective words/s\n",
      "DEBUG:gensim.models.base_any2vec:job loop exiting, total 21 jobs\n",
      "DEBUG:gensim.models.base_any2vec:worker exiting, processed 8 jobs\n",
      "INFO:gensim.models.base_any2vec:worker thread finished; awaiting finish of 2 more threads\n",
      "INFO:gensim.models.base_any2vec:worker thread finished; awaiting finish of 1 more threads\n",
      "DEBUG:gensim.models.base_any2vec:worker exiting, processed 6 jobs\n",
      "DEBUG:gensim.models.base_any2vec:worker exiting, processed 7 jobs\n",
      "INFO:gensim.models.base_any2vec:worker thread finished; awaiting finish of 0 more threads\n",
      "INFO:gensim.models.base_any2vec:EPOCH - 3 : training on 198968 raw words (168615 effective words) took 0.5s, 353828 effective words/s\n",
      "DEBUG:gensim.models.base_any2vec:job loop exiting, total 21 jobs\n",
      "DEBUG:gensim.models.base_any2vec:worker exiting, processed 7 jobs\n",
      "INFO:gensim.models.base_any2vec:worker thread finished; awaiting finish of 2 more threads\n",
      "DEBUG:gensim.models.base_any2vec:worker exiting, processed 7 jobs\n",
      "INFO:gensim.models.base_any2vec:worker thread finished; awaiting finish of 1 more threads\n"
     ]
    },
    {
     "name": "stderr",
     "output_type": "stream",
     "text": [
      "DEBUG:gensim.models.base_any2vec:worker exiting, processed 7 jobs\n",
      "INFO:gensim.models.base_any2vec:worker thread finished; awaiting finish of 0 more threads\n",
      "INFO:gensim.models.base_any2vec:EPOCH - 4 : training on 198968 raw words (168594 effective words) took 0.6s, 281939 effective words/s\n",
      "DEBUG:gensim.models.base_any2vec:job loop exiting, total 21 jobs\n",
      "DEBUG:gensim.models.base_any2vec:worker exiting, processed 7 jobs\n",
      "INFO:gensim.models.base_any2vec:worker thread finished; awaiting finish of 2 more threads\n",
      "DEBUG:gensim.models.base_any2vec:worker exiting, processed 8 jobs\n",
      "INFO:gensim.models.base_any2vec:worker thread finished; awaiting finish of 1 more threads\n",
      "DEBUG:gensim.models.base_any2vec:worker exiting, processed 6 jobs\n",
      "INFO:gensim.models.base_any2vec:worker thread finished; awaiting finish of 0 more threads\n",
      "INFO:gensim.models.base_any2vec:EPOCH - 5 : training on 198968 raw words (168636 effective words) took 0.6s, 285262 effective words/s\n",
      "INFO:gensim.models.base_any2vec:training on a 994840 raw words (842776 effective words) took 2.9s, 294398 effective words/s\n"
     ]
    }
   ],
   "source": [
    "from gensim.models import Word2Vec\n",
    "males = [doc for doc in male['tokens']]\n",
    "malemodel = Word2Vec(males, size=275, window=8, min_count=4, workers = 3)\n",
    "females = [doc for doc in female['tokens']]\n",
    "femalemodel = Word2Vec(females, size=275, window=8, min_count=4, workers = 3)"
   ]
  },
  {
   "cell_type": "code",
   "execution_count": 104,
   "metadata": {},
   "outputs": [
    {
     "data": {
      "text/plain": [
       "['like',\n",
       " 'unlink',\n",
       " 'time',\n",
       " 'know',\n",
       " 'think',\n",
       " 'get',\n",
       " 'day',\n",
       " 'thing',\n",
       " 'people',\n",
       " 'good',\n",
       " 'come',\n",
       " 'say',\n",
       " 'want',\n",
       " 'work',\n",
       " 'well',\n",
       " 'look',\n",
       " 'way',\n",
       " 'year',\n",
       " 'feel',\n",
       " 'new',\n",
       " 'today',\n",
       " 'right',\n",
       " 'love',\n",
       " 'tell',\n",
       " 'find',\n",
       " 'start',\n",
       " 'talk',\n",
       " 'play',\n",
       " 'try',\n",
       " 'need',\n",
       " 'friend',\n",
       " 'long',\n",
       " 'life',\n",
       " 'see',\n",
       " 'take',\n",
       " 'night',\n",
       " 'great',\n",
       " 'read',\n",
       " 'home',\n",
       " 'little',\n",
       " 'man',\n",
       " 'leave',\n",
       " 'yes',\n",
       " 'lot',\n",
       " 'let',\n",
       " 'guy',\n",
       " 'mean',\n",
       " 'write',\n",
       " 'end',\n",
       " 'live',\n",
       " 'post',\n",
       " 'world',\n",
       " 'late',\n",
       " 'school',\n",
       " 'week',\n",
       " 'watch',\n",
       " 'old',\n",
       " 'blog',\n",
       " 'ask',\n",
       " 'make',\n",
       " 'fun',\n",
       " 'run',\n",
       " 'happen',\n",
       " 'place',\n",
       " 'stuff',\n",
       " 'pretty',\n",
       " 'movie',\n",
       " 'bad',\n",
       " 'big',\n",
       " 'give',\n",
       " 'actually',\n",
       " 'turn',\n",
       " 'maybe',\n",
       " 'away',\n",
       " 'sure',\n",
       " 'hour',\n",
       " 'girl',\n",
       " 'call',\n",
       " 'game',\n",
       " 'okay',\n",
       " 'help',\n",
       " 'person',\n",
       " 'hear',\n",
       " 'head',\n",
       " 'god',\n",
       " 'sit',\n",
       " 'nice',\n",
       " 'point',\n",
       " 'book',\n",
       " 'bite',\n",
       " 'interest',\n",
       " 'reason',\n",
       " 'hope',\n",
       " 'tbsp',\n",
       " 'guess',\n",
       " 'walk',\n",
       " 'change',\n",
       " 'word',\n",
       " 'wrong',\n",
       " 'hard',\n",
       " 'mind',\n",
       " 'stop',\n",
       " 'low',\n",
       " 'house',\n",
       " 'song',\n",
       " 'hand',\n",
       " 'decide',\n",
       " 'state',\n",
       " 'kid',\n",
       " 'high',\n",
       " 'buy',\n",
       " 'drive',\n",
       " 'party',\n",
       " 'sleep',\n",
       " 'probably',\n",
       " 'far',\n",
       " 'bring',\n",
       " 'class',\n",
       " 'cool',\n",
       " 'the',\n",
       " 'believe',\n",
       " 'meet',\n",
       " 'lose',\n",
       " 'win',\n",
       " 'music',\n",
       " 'morning',\n",
       " 'use',\n",
       " 'war',\n",
       " 'car',\n",
       " 'spend',\n",
       " 'wait',\n",
       " 'question',\n",
       " 'course',\n",
       " 'fall',\n",
       " 'story',\n",
       " 'site',\n",
       " 'tomorrow',\n",
       " 'bush',\n",
       " 'idea',\n",
       " 'minute',\n",
       " 'break',\n",
       " 'remember',\n",
       " 'open',\n",
       " 'eat',\n",
       " 'kind',\n",
       " 'fuck',\n",
       " 'problem',\n",
       " 'happy',\n",
       " 'check',\n",
       " 'different']"
      ]
     },
     "execution_count": 104,
     "metadata": {},
     "output_type": "execute_result"
    }
   ],
   "source": [
    "malewords = malemodel.wv.index2entity[:150]\n",
    "femalewords = femalemodel.wv.index2entity[:150]\n",
    "malewords"
   ]
  },
  {
   "cell_type": "code",
   "execution_count": 105,
   "metadata": {},
   "outputs": [
    {
     "data": {
      "text/plain": [
       "['like',\n",
       " 'know',\n",
       " 'think',\n",
       " 'get',\n",
       " 'time',\n",
       " 'day',\n",
       " 'want',\n",
       " 'thing',\n",
       " 'come',\n",
       " 'love',\n",
       " 'unlink',\n",
       " 'good',\n",
       " 'people',\n",
       " 'feel',\n",
       " 'say',\n",
       " 'look',\n",
       " 'work',\n",
       " 'today',\n",
       " 'tell',\n",
       " 'way',\n",
       " 'friend',\n",
       " 'well',\n",
       " 'need',\n",
       " 'life',\n",
       " 'right',\n",
       " 'find',\n",
       " 'year',\n",
       " 'new',\n",
       " 'try',\n",
       " 'night',\n",
       " 'leave',\n",
       " 'little',\n",
       " 'yes',\n",
       " 'talk',\n",
       " 'home',\n",
       " 'see',\n",
       " 'start',\n",
       " 'long',\n",
       " 'take',\n",
       " 'man',\n",
       " 'mean',\n",
       " 'week',\n",
       " 'lot',\n",
       " 'let',\n",
       " 'read',\n",
       " 'ask',\n",
       " 'watch',\n",
       " 'guy',\n",
       " 'write',\n",
       " 'school',\n",
       " 'great',\n",
       " 'play',\n",
       " 'end',\n",
       " 'fun',\n",
       " 'okay',\n",
       " 'hope',\n",
       " 'live',\n",
       " 'house',\n",
       " 'late',\n",
       " 'girl',\n",
       " 'god',\n",
       " 'nice',\n",
       " 'walk',\n",
       " 'make',\n",
       " 'happen',\n",
       " 'place',\n",
       " 'guess',\n",
       " 'old',\n",
       " 'bad',\n",
       " 'call',\n",
       " 'away',\n",
       " 'world',\n",
       " 'sit',\n",
       " 'actually',\n",
       " 'give',\n",
       " 'maybe',\n",
       " 'mon',\n",
       " 'post',\n",
       " 'movie',\n",
       " 'pretty',\n",
       " 'run',\n",
       " 'stuff',\n",
       " 'hour',\n",
       " 'sleep',\n",
       " 'head',\n",
       " 'hear',\n",
       " 'eat',\n",
       " 'sure',\n",
       " 'low',\n",
       " 'wait',\n",
       " 'happy',\n",
       " 'big',\n",
       " 'help',\n",
       " 'blog',\n",
       " 'wrong',\n",
       " 'miss',\n",
       " 'word',\n",
       " 'turn',\n",
       " 'person',\n",
       " 'book',\n",
       " 'morning',\n",
       " 'change',\n",
       " 'tbsp',\n",
       " 'cut',\n",
       " 'bite',\n",
       " 'hard',\n",
       " 'break',\n",
       " 'meet',\n",
       " 'lose',\n",
       " 'eye',\n",
       " 'room',\n",
       " 'drink',\n",
       " 'hand',\n",
       " 'thank',\n",
       " 'stop',\n",
       " 'buy',\n",
       " 'car',\n",
       " 'class',\n",
       " 'remember',\n",
       " 'point',\n",
       " 'kid',\n",
       " 'drive',\n",
       " 'song',\n",
       " 'spend',\n",
       " 'believe',\n",
       " 'care',\n",
       " 'hate',\n",
       " 'woman',\n",
       " 'job',\n",
       " 'tomorrow',\n",
       " 'wish',\n",
       " 'family',\n",
       " 'minute',\n",
       " 'cool',\n",
       " 'mind',\n",
       " 'heart',\n",
       " 'weekend',\n",
       " 'fuck',\n",
       " 'soon',\n",
       " 'finally',\n",
       " 'kind',\n",
       " 'use',\n",
       " 'close',\n",
       " 'month',\n",
       " 'hair',\n",
       " 'decide',\n",
       " 'probably',\n",
       " 'stay',\n",
       " 'wonder',\n",
       " 'yesterday']"
      ]
     },
     "execution_count": 105,
     "metadata": {},
     "output_type": "execute_result"
    }
   ],
   "source": [
    "femalewords"
   ]
  },
  {
   "cell_type": "code",
   "execution_count": 106,
   "metadata": {},
   "outputs": [
    {
     "data": {
      "text/plain": [
       "['game',\n",
       " 'interest',\n",
       " 'reason',\n",
       " 'state',\n",
       " 'high',\n",
       " 'party',\n",
       " 'far',\n",
       " 'bring',\n",
       " 'the',\n",
       " 'win',\n",
       " 'music',\n",
       " 'war',\n",
       " 'question',\n",
       " 'course',\n",
       " 'fall',\n",
       " 'story',\n",
       " 'site',\n",
       " 'bush',\n",
       " 'idea',\n",
       " 'open',\n",
       " 'problem',\n",
       " 'check',\n",
       " 'different']"
      ]
     },
     "execution_count": 106,
     "metadata": {},
     "output_type": "execute_result"
    }
   ],
   "source": [
    "#Most frequent male words that don't appear in female posts\n",
    "[word for word in malewords if word not in femalewords]"
   ]
  },
  {
   "cell_type": "code",
   "execution_count": 111,
   "metadata": {},
   "outputs": [
    {
     "data": {
      "text/plain": [
       "['mon',\n",
       " 'miss',\n",
       " 'cut',\n",
       " 'eye',\n",
       " 'room',\n",
       " 'drink',\n",
       " 'thank',\n",
       " 'care',\n",
       " 'hate',\n",
       " 'woman',\n",
       " 'job',\n",
       " 'wish',\n",
       " 'family',\n",
       " 'heart',\n",
       " 'weekend',\n",
       " 'soon',\n",
       " 'finally',\n",
       " 'close',\n",
       " 'month',\n",
       " 'hair',\n",
       " 'stay',\n",
       " 'wonder',\n",
       " 'yesterday']"
      ]
     },
     "execution_count": 111,
     "metadata": {},
     "output_type": "execute_result"
    }
   ],
   "source": [
    "#Most frequent female words that don't appear in male posts\n",
    "[word for word in femalewords if word not in malewords]"
   ]
  },
  {
   "cell_type": "code",
   "execution_count": null,
   "metadata": {},
   "outputs": [],
   "source": []
  }
 ],
 "metadata": {
  "kernelspec": {
   "display_name": "Python 3",
   "language": "python",
   "name": "python3"
  },
  "language_info": {
   "codemirror_mode": {
    "name": "ipython",
    "version": 3
   },
   "file_extension": ".py",
   "mimetype": "text/x-python",
   "name": "python",
   "nbconvert_exporter": "python",
   "pygments_lexer": "ipython3",
   "version": "3.7.3"
  }
 },
 "nbformat": 4,
 "nbformat_minor": 2
}
