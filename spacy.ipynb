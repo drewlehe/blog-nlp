{
 "cells": [
  {
   "cell_type": "markdown",
   "metadata": {},
   "source": [
    "# Predicting gender from blog post"
   ]
  },
  {
   "cell_type": "markdown",
   "metadata": {},
   "source": [
    "## Note to Preet: In this notebook I'm combining some categories and taking out \"Industry Unknown\". My f1 score is MUCH better when I do this. However, I'm not sure it's appropriate because I'm predicting 'gender' here and I'm not even adding 'topic' as a feature.\n",
    "\n",
    "## Plot distribution of word counts\n",
    "## Plotted ROC curve\n",
    "## Need to plot most common words by category"
   ]
  },
  {
   "cell_type": "code",
   "execution_count": 1,
   "metadata": {},
   "outputs": [],
   "source": [
    "import pandas as pd\n",
    "import numpy as np\n",
    "import matplotlib.pyplot as plt\n",
    "import seaborn as sns\n",
    "sns.set(style='darkgrid')\n",
    "df = pd.read_csv('blogtext.csv', parse_dates = ['date']).sample(8000)"
   ]
  },
  {
   "cell_type": "code",
   "execution_count": 2,
   "metadata": {},
   "outputs": [
    {
     "data": {
      "text/html": [
       "<div>\n",
       "<style scoped>\n",
       "    .dataframe tbody tr th:only-of-type {\n",
       "        vertical-align: middle;\n",
       "    }\n",
       "\n",
       "    .dataframe tbody tr th {\n",
       "        vertical-align: top;\n",
       "    }\n",
       "\n",
       "    .dataframe thead th {\n",
       "        text-align: right;\n",
       "    }\n",
       "</style>\n",
       "<table border=\"1\" class=\"dataframe\">\n",
       "  <thead>\n",
       "    <tr style=\"text-align: right;\">\n",
       "      <th></th>\n",
       "      <th>id</th>\n",
       "      <th>gender</th>\n",
       "      <th>age</th>\n",
       "      <th>topic</th>\n",
       "      <th>sign</th>\n",
       "      <th>date</th>\n",
       "      <th>text</th>\n",
       "    </tr>\n",
       "  </thead>\n",
       "  <tbody>\n",
       "    <tr>\n",
       "      <th>0</th>\n",
       "      <td>3293712</td>\n",
       "      <td>male</td>\n",
       "      <td>16</td>\n",
       "      <td>Student</td>\n",
       "      <td>Taurus</td>\n",
       "      <td>19,May,2004</td>\n",
       "      <td>Alright Mattson, I believe it is spelle...</td>\n",
       "    </tr>\n",
       "    <tr>\n",
       "      <th>1</th>\n",
       "      <td>3304877</td>\n",
       "      <td>male</td>\n",
       "      <td>26</td>\n",
       "      <td>Technology</td>\n",
       "      <td>Aries</td>\n",
       "      <td>21,May,2004</td>\n",
       "      <td>i have a  urlLink gmail  acco...</td>\n",
       "    </tr>\n",
       "    <tr>\n",
       "      <th>2</th>\n",
       "      <td>3955416</td>\n",
       "      <td>male</td>\n",
       "      <td>37</td>\n",
       "      <td>Technology</td>\n",
       "      <td>Virgo</td>\n",
       "      <td>20,July,2004</td>\n",
       "      <td>It is only a few days left before t...</td>\n",
       "    </tr>\n",
       "    <tr>\n",
       "      <th>3</th>\n",
       "      <td>320317</td>\n",
       "      <td>male</td>\n",
       "      <td>36</td>\n",
       "      <td>Technology</td>\n",
       "      <td>Pisces</td>\n",
       "      <td>25,July,2002</td>\n",
       "      <td>'The FCC reports that there were 12...</td>\n",
       "    </tr>\n",
       "    <tr>\n",
       "      <th>4</th>\n",
       "      <td>3495224</td>\n",
       "      <td>male</td>\n",
       "      <td>16</td>\n",
       "      <td>Student</td>\n",
       "      <td>Aries</td>\n",
       "      <td>02,June,2004</td>\n",
       "      <td>urlLink    VH-AFR Resting on the GA ramp a...</td>\n",
       "    </tr>\n",
       "  </tbody>\n",
       "</table>\n",
       "</div>"
      ],
      "text/plain": [
       "        id gender  age       topic    sign          date  \\\n",
       "0  3293712   male   16     Student  Taurus   19,May,2004   \n",
       "1  3304877   male   26  Technology   Aries   21,May,2004   \n",
       "2  3955416   male   37  Technology   Virgo  20,July,2004   \n",
       "3   320317   male   36  Technology  Pisces  25,July,2002   \n",
       "4  3495224   male   16     Student   Aries  02,June,2004   \n",
       "\n",
       "                                                text  \n",
       "0         Alright Mattson, I believe it is spelle...  \n",
       "1                   i have a  urlLink gmail  acco...  \n",
       "2             It is only a few days left before t...  \n",
       "3             'The FCC reports that there were 12...  \n",
       "4      urlLink    VH-AFR Resting on the GA ramp a...  "
      ]
     },
     "execution_count": 2,
     "metadata": {},
     "output_type": "execute_result"
    }
   ],
   "source": [
    "df = df[df['topic']!='indUnk'].copy()\n",
    "# df = df[df['topic']!='Student'].copy()\n",
    "df.reset_index(drop=True, inplace=True)\n",
    "df.head()"
   ]
  },
  {
   "cell_type": "code",
   "execution_count": 3,
   "metadata": {},
   "outputs": [
    {
     "data": {
      "text/plain": [
       "<matplotlib.axes._subplots.AxesSubplot at 0x7fd1d2921c88>"
      ]
     },
     "execution_count": 3,
     "metadata": {},
     "output_type": "execute_result"
    },
    {
     "data": {
      "image/png": "[encoded data removed]",
      "text/plain": [
       "<Figure size 432x288 with 1 Axes>"
      ]
     },
     "metadata": {
      "needs_background": "light"
     },
     "output_type": "display_data"
    }
   ],
   "source": [
    "#Removing all classes but the 20 most populous.\n",
    "# most_pop = list(df.groupby('topic')['topic'].agg('count').sort_values(ascending=False)[:20].index)\n",
    "# df = df[df['topic'].isin(most_pop)]\n",
    "# print(df.shape)\n",
    "# plt.figure(figsize=(9,9))\n",
    "# df['topic'].value_counts().plot('bar')\n",
    "#A lot of these classes are super similar. I might need to combine them."
   ]
  },
  {
   "cell_type": "markdown",
   "metadata": {},
   "source": [
    "# Alright, time to combine a few categories"
   ]
  },
  {
   "cell_type": "code",
   "execution_count": 4,
   "metadata": {},
   "outputs": [],
   "source": [
    "#First create a new column for edited categories\n",
    "TYPEDICT = {'Advertising':'Marketing', 'Internet':'Technology', \n",
    "            'BusinessServices':'Consulting', 'Telecommunications':'Communications-Media', \n",
    "            'Publishing':'Communications-Media', 'Government':'Law', 'Banking': 'Finance', \n",
    "            'Accounting': 'Finance', 'Science': 'Science&Engineering', 'Engineering':'Science&Engineering'}\n",
    "df['custom_topic'] = df['topic'].map(lambda x: TYPEDICT[x] if x in TYPEDICT else x)"
   ]
  },
  {
   "cell_type": "code",
   "execution_count": 5,
   "metadata": {},
   "outputs": [
    {
     "data": {
      "text/plain": [
       "<matplotlib.axes._subplots.AxesSubplot at 0x7fd1ce304208>"
      ]
     },
     "execution_count": 5,
     "metadata": {},
     "output_type": "execute_result"
    },
    {
     "data": {
      "image/png": "[encoded data removed]",
      "text/plain": [
       "<Figure size 432x288 with 1 Axes>"
      ]
     },
     "metadata": {
      "needs_background": "light"
     },
     "output_type": "display_data"
    }
   ],
   "source": [
    "df['custom_topic'].value_counts().plot('bar')"
   ]
  },
  {
   "cell_type": "code",
   "execution_count": 7,
   "metadata": {},
   "outputs": [
    {
     "data": {
      "text/plain": [
       "0    [alright, mattson, i, believe, it, be, spell, ...\n",
       "1    [i, have, a, gmail, account, now, but, i, must...\n",
       "2    [it, be, only, a, few, day, leave, before, mov...\n",
       "3    [fcc, report, that, there, be, 128, million, b...\n",
       "4    [vh, afr, rest, on, ga, ramp, after, a, long, ...\n",
       "Name: formatted, dtype: object"
      ]
     },
     "execution_count": 7,
     "metadata": {},
     "output_type": "execute_result"
    }
   ],
   "source": [
    "#Tokenizing and Lemmatizing text.\n",
    "import spacy\n",
    "import re\n",
    "nlp = spacy.load('en_core_web_sm')\n",
    "\n",
    "#Creating the tokens, which are an important spaCy datatype.\n",
    "df['tokens'] = df['text'].apply(lambda x: nlp.tokenizer(x.lower()))\n",
    "spacy_stopwords = [spacy.lang.en.stop_words.STOP_WORDS] + ['urllink']\n",
    "stops = ['and', 'the', 'is', 'are', 'urllink', 'of', 'PRON']\n",
    "#Turning the tokens to Python datatypes and cleaning, for non-spaCy work.\n",
    "def clean(lst):\n",
    "#     lst = [token.lemma_ for token in lst if not token.is_stop]\n",
    "    lst = [token.lemma_ for token in lst if str(token.lemma_) not in stops]\n",
    "    lst = [l.replace('nbsp', '').replace('urllink', '') for l in lst]\n",
    "    lst = [re.sub(r'[\\W]', '', string) for string in lst]\n",
    "    while '' in lst:\n",
    "        lst.remove('')\n",
    "    return lst\n",
    "df['formatted'] = df['tokens'].map(lambda x: clean(x))\n",
    "df['tokenstr'] = df['tokens'].map(lambda x: str(x))\n",
    "#Creating a single-string version of the cleaned texts, for tools that require it.\n",
    "df['form_str'] = df['formatted'].map(lambda x: ' '.join(x))\n",
    "df['formatted'].head()"
   ]
  },
  {
   "cell_type": "code",
   "execution_count": 10,
   "metadata": {},
   "outputs": [
    {
     "data": {
      "text/plain": [
       "['\"\"',\n",
       " '#',\n",
       " '$',\n",
       " \"''\",\n",
       " ',',\n",
       " '-LRB-',\n",
       " '-RRB-',\n",
       " '.',\n",
       " ':',\n",
       " 'ADD',\n",
       " 'AFX',\n",
       " 'BES',\n",
       " 'CC',\n",
       " 'CD',\n",
       " 'DT',\n",
       " 'EX',\n",
       " 'FW',\n",
       " 'GW',\n",
       " 'HVS',\n",
       " 'HYPH']"
      ]
     },
     "execution_count": 10,
     "metadata": {},
     "output_type": "execute_result"
    }
   ],
   "source": [
    "#Turn tokens to string\n",
    "list(nlp.vocab.strings)[:20]"
   ]
  },
  {
   "cell_type": "code",
   "execution_count": 11,
   "metadata": {},
   "outputs": [
    {
     "data": {
      "text/plain": [
       "5005           thanks to the members of st. blog's who...\n",
       "5006               so, i finally found a place to live...\n",
       "5007                  urllink still no case for war  [...\n",
       "5008                      urllink múm ( summer make go...\n",
       "5009                 it is better to have loved and lo...\n",
       "5010               [beej@localhost beej]blogger: permi...\n",
       "5011               weller words pop into mind. he was ...\n",
       "5012                 ok, i feel kinda bad. i feel like...\n",
       "5013           i would just like to praise the lord je...\n",
       "5014                      urllink    matt and evan at ...\n",
       "5015           alright, so today i got up early to let...\n",
       "5016            .scene  today i got to go to work with...\n",
       "5017                urllink    after....&nbsp; urllink...\n",
       "5018                 so tom ridge is out there today p...\n",
       "5019               i'm going to a styx and peter framp...\n",
       "5020                 so.  maurice clarett decided to c...\n",
       "5021           die liao. this time really die liao. i'...\n",
       "5022               bon: wb! :) gusto ko ang lex luthor...\n",
       "5023           dear susan/ian michael smith,    yester...\n",
       "5024                urllink    here it is again. (libr...\n",
       "5025            shit. english oral is next week. shit....\n",
       "5026            downfall for productivity...  in a mas...\n",
       "5027           yesterday, around...4 o'clock i start f...\n",
       "5028                     thank you. i am honored to sh...\n",
       "5029            sleepy   hey, i can't communicate with...\n",
       "5030           convoy civilian amalgam contract by scr...\n",
       "5031           so i hope that tonight is a display of ...\n",
       "5032                     the nhl's longest active cons...\n",
       "5033           hey pretty people..its 630 here i just ...\n",
       "5034           for some odd reason, tonight i just sta...\n",
       "Name: tokenstr, dtype: object"
      ]
     },
     "execution_count": 11,
     "metadata": {},
     "output_type": "execute_result"
    }
   ],
   "source": [
    "df['tokenstr'].tail(30)\n",
    "#urllink is still here."
   ]
  },
  {
   "cell_type": "markdown",
   "metadata": {},
   "source": [
    "# Do word counts by class"
   ]
  },
  {
   "cell_type": "code",
   "execution_count": 12,
   "metadata": {},
   "outputs": [
    {
     "data": {
      "text/plain": [
       "<Figure size 648x648 with 0 Axes>"
      ]
     },
     "execution_count": 12,
     "metadata": {},
     "output_type": "execute_result"
    },
    {
     "data": {
      "image/png": "[encoded data removed]",
      "text/plain": [
       "<Figure size 432x288 with 1 Axes>"
      ]
     },
     "metadata": {
      "needs_background": "light"
     },
     "output_type": "display_data"
    },
    {
     "data": {
      "text/plain": [
       "<Figure size 648x648 with 0 Axes>"
      ]
     },
     "metadata": {},
     "output_type": "display_data"
    }
   ],
   "source": [
    "#Want to plot median word count by class\n",
    "df.groupby('custom_topic')['tokens'].agg('count').plot('bar')\n",
    "plt.figure(figsize=(9,9))\n",
    "# df['custom_topic'].value_counts().plot('bar')"
   ]
  },
  {
   "cell_type": "code",
   "execution_count": 14,
   "metadata": {},
   "outputs": [
    {
     "data": {
      "text/plain": [
       "254.06593843098312"
      ]
     },
     "execution_count": 14,
     "metadata": {},
     "output_type": "execute_result"
    }
   ],
   "source": [
    "topics = list(df['custom_topic'].unique())\n",
    "#find average length of the blogposts by class\n",
    "def avlength(col):\n",
    "    col.reset_index(drop=True,inplace=True)\n",
    "    count = 0\n",
    "    for i in range(1,len(col)):\n",
    "        count += len(col[i])\n",
    "    return count/(len(col))\n",
    "avlength(df['tokens'])"
   ]
  },
  {
   "cell_type": "code",
   "execution_count": null,
   "metadata": {},
   "outputs": [],
   "source": [
    "# Want the most common words by category: working on this.\n",
    "from collections import Counter\n",
    "# five most common tokens\n",
    "words = df.loc[4]['tokens']\n",
    "word_freq = Counter(words)\n",
    "common_words = word_freq.most_common(5)\n",
    "common_words"
   ]
  },
  {
   "cell_type": "code",
   "execution_count": 15,
   "metadata": {},
   "outputs": [
    {
     "data": {
      "text/plain": [
       "<matplotlib.axes._subplots.AxesSubplot at 0x7fd1776dc630>"
      ]
     },
     "execution_count": 15,
     "metadata": {},
     "output_type": "execute_result"
    },
    {
     "data": {
      "image/png": "[encoded data removed]",
      "text/plain": [
       "<Figure size 432x288 with 1 Axes>"
      ]
     },
     "metadata": {
      "needs_background": "light"
     },
     "output_type": "display_data"
    }
   ],
   "source": [
    "df.age.value_counts().plot('bar')"
   ]
  },
  {
   "cell_type": "markdown",
   "metadata": {},
   "source": [
    "# Machine Learning Pre-Processing"
   ]
  },
  {
   "cell_type": "code",
   "execution_count": 18,
   "metadata": {},
   "outputs": [],
   "source": [
    "from sklearn import preprocessing\n",
    "le = preprocessing.LabelEncoder()\n",
    "# Converting string labels into numbers.\n",
    "y=le.fit_transform(df['gender'])\n",
    "# X = df['form_str']\n",
    "X=df['tokenstr']\n",
    "from sklearn.model_selection import train_test_split\n",
    "X_train, X_test, y_train, y_test = train_test_split(X,y)\n",
    "\n",
    "from sklearn.feature_extraction.text import CountVectorizer\n",
    "cv = CountVectorizer(lowercase=True, analyzer = \"word\",\n",
    "                     max_features=3500,min_df=4, tokenizer=None, \n",
    "                     ngram_range = [3,5], preprocessor=None)\n",
    "X_train_cv = cv.fit_transform(X_train)\n",
    "X_test_cv = cv.transform(X_test)\n",
    "#Metrics I'm going to use\n",
    "from sklearn.metrics import f1_score, balanced_accuracy_score, accuracy_score, classification_report"
   ]
  },
  {
   "cell_type": "code",
   "execution_count": 17,
   "metadata": {},
   "outputs": [
    {
     "data": {
      "text/plain": [
       "3500"
      ]
     },
     "execution_count": 17,
     "metadata": {},
     "output_type": "execute_result"
    }
   ],
   "source": [
    "len(cv.vocabulary_)"
   ]
  },
  {
   "cell_type": "code",
   "execution_count": 19,
   "metadata": {},
   "outputs": [
    {
     "name": "stdout",
     "output_type": "stream",
     "text": [
      "Accuracy score:  0.596505162827641\n",
      "F1 score:  0.6780735107731305\n"
     ]
    }
   ],
   "source": [
    "from sklearn import metrics\n",
    "from sklearn.naive_bayes import MultinomialNB\n",
    "clf = MultinomialNB(alpha=.04)\n",
    "clf = clf.fit(X_train_cv, y_train)\n",
    "y_preds=clf.predict(X_test_cv)\n",
    "print('Accuracy score: ', accuracy_score(y_test, y_preds))\n",
    "print(\"F1 score: \", metrics.f1_score(y_test , y_preds))"
   ]
  },
  {
   "cell_type": "code",
   "execution_count": 20,
   "metadata": {},
   "outputs": [
    {
     "name": "stdout",
     "output_type": "stream",
     "text": [
      "Accuracy score:  0.5694996028594123\n",
      "F1 score:  0.7005524861878454\n"
     ]
    }
   ],
   "source": [
    "from sklearn.ensemble import AdaBoostClassifier\n",
    "clf = AdaBoostClassifier(n_estimators=50, learning_rate=0.5)\n",
    "clf=clf.fit(X_train_cv, y_train)\n",
    "y_preds=clf.predict(X_test_cv)\n",
    "print('Accuracy score: ', accuracy_score(y_test, y_preds))\n",
    "print(\"F1 score: \", metrics.f1_score(y_test , y_preds))"
   ]
  },
  {
   "cell_type": "code",
   "execution_count": 21,
   "metadata": {},
   "outputs": [
    {
     "name": "stdout",
     "output_type": "stream",
     "text": [
      "Accuracy score:  0.5845909451945989\n",
      "F1 score:  0.6405498281786942\n"
     ]
    },
    {
     "data": {
      "image/png": "[encoded data removed]",
      "text/plain": [
       "<Figure size 432x288 with 1 Axes>"
      ]
     },
     "metadata": {
      "needs_background": "light"
     },
     "output_type": "display_data"
    }
   ],
   "source": [
    "from sklearn.ensemble import RandomForestClassifier\n",
    "from sklearn.metrics import roc_curve\n",
    "\n",
    "clf = RandomForestClassifier(n_estimators=300)\n",
    "clf.fit(X_train_cv, y_train)\n",
    "y_preds=clf.predict(X_test_cv)\n",
    "print('Accuracy score: ', accuracy_score(y_test, y_preds))\n",
    "print(\"F1 score: \", metrics.f1_score(y_test , y_preds))\n",
    "probs = clf.predict_proba(X_test_cv)\n",
    "lr_probs = probs[:, 1]\n",
    "ns_probs = [0 for _ in range(len(y_test))]\n",
    "# calculate roc curves\n",
    "ns_fpr, ns_tpr, _ = roc_curve(y_test, ns_probs)\n",
    "lr_fpr, lr_tpr, _ = roc_curve(y_test, lr_probs)\n",
    "# plot the roc curve for the model\n",
    "plt.plot(ns_fpr, ns_tpr, linestyle='--', label='No Skill')\n",
    "plt.plot(lr_fpr, lr_tpr, marker='.', label='RandomForest')\n",
    "# axis labels\n",
    "plt.xlabel('False Positive Rate')\n",
    "plt.ylabel('True Positive Rate')\n",
    "# show the legend\n",
    "plt.legend()\n",
    "# show the plot\n",
    "plt.show()"
   ]
  },
  {
   "cell_type": "code",
   "execution_count": null,
   "metadata": {},
   "outputs": [],
   "source": [
    "#This is just the code for getting an AUC plot. I will stick it into a function.\n",
    "probs = clf.predict_proba(X_test_cv)\n",
    "lr_probs = probs[:, 1]\n",
    "ns_probs = [0 for _ in range(len(y_test))]\n",
    "# calculate roc curves\n",
    "ns_fpr, ns_tpr, _ = roc_curve(y_test, ns_probs)\n",
    "lr_fpr, lr_tpr, _ = roc_curve(y_test, lr_probs)\n",
    "# plot the roc curve for the model\n",
    "plt.plot(ns_fpr, ns_tpr, linestyle='--', label='No Skill')\n",
    "plt.plot(lr_fpr, lr_tpr, marker='.', label='RandomForest')\n",
    "# axis labels\n",
    "plt.xlabel('False Positive Rate')\n",
    "plt.ylabel('True Positive Rate')\n",
    "# show the legend\n",
    "plt.legend()\n",
    "# show the plot\n",
    "plt.show()"
   ]
  },
  {
   "cell_type": "code",
   "execution_count": null,
   "metadata": {},
   "outputs": [],
   "source": [
    "from sklearn.metrics import roc_auc_score\n",
    "ns_auc = roc_auc_score(y_test, ns_probs)\n",
    "ns_auc"
   ]
  },
  {
   "cell_type": "code",
   "execution_count": 22,
   "metadata": {},
   "outputs": [
    {
     "name": "stdout",
     "output_type": "stream",
     "text": [
      "Accuracy score:  0.5607625099285147\n",
      "F1 score:  0.7185750636132315\n"
     ]
    }
   ],
   "source": [
    "#Best score of anything. F1=.724346\n",
    "from sklearn.svm import SVC\n",
    "clf = SVC(gamma = 'auto', C=1, kernel='poly', degree=3)\n",
    "clf.fit(X_train_cv, y_train)\n",
    "y_preds=clf.predict(X_test_cv)\n",
    "print('Accuracy score: ', accuracy_score(y_test, y_preds))\n",
    "print(\"F1 score: \", metrics.f1_score(y_test , y_preds))"
   ]
  },
  {
   "cell_type": "code",
   "execution_count": 23,
   "metadata": {},
   "outputs": [
    {
     "name": "stdout",
     "output_type": "stream",
     "text": [
      "Accuracy score:  0.5861795075456712\n",
      "F1 score:  0.7145205479452055\n"
     ]
    },
    {
     "data": {
      "image/png": "[encoded data removed]",
      "text/plain": [
       "<Figure size 432x288 with 1 Axes>"
      ]
     },
     "metadata": {
      "needs_background": "light"
     },
     "output_type": "display_data"
    }
   ],
   "source": [
    "from xgboost import XGBClassifier\n",
    "clf = XGBClassifier(num_boosting_rounds=500, eta=0.05)\n",
    "clf.fit(X_train_cv, y_train)\n",
    "y_preds=clf.predict(X_test_cv)\n",
    "print('Accuracy score: ', accuracy_score(y_test, y_preds))\n",
    "print(\"F1 score: \", metrics.f1_score(y_test , y_preds))\n",
    "probs = clf.predict_proba(X_test_cv)\n",
    "lr_probs = probs[:, 1]\n",
    "ns_probs = [0 for _ in range(len(y_test))]\n",
    "# calculate roc curves\n",
    "ns_fpr, ns_tpr, _ = roc_curve(y_test, ns_probs)\n",
    "lr_fpr, lr_tpr, _ = roc_curve(y_test, lr_probs)\n",
    "# plot the roc curve for the model\n",
    "plt.plot(ns_fpr, ns_tpr, linestyle='--', label='No Skill')\n",
    "plt.plot(lr_fpr, lr_tpr, marker='.', label='XGBoost')\n",
    "# axis labels\n",
    "plt.xlabel('False Positive Rate')\n",
    "plt.ylabel('True Positive Rate')\n",
    "# show the legend\n",
    "plt.legend()\n",
    "# show the plot\n",
    "plt.show()"
   ]
  },
  {
   "cell_type": "code",
   "execution_count": 24,
   "metadata": {},
   "outputs": [
    {
     "name": "stdout",
     "output_type": "stream",
     "text": [
      "0.5877680698967435\n",
      "[[118 434]\n",
      " [ 85 622]]\n",
      "F1 score:  0.7056154282473058\n",
      "Precision score:  0.5890151515151515\n",
      "Recall score:  0.8797736916548797\n"
     ]
    }
   ],
   "source": [
    "#Best score: .72599\n",
    "from sklearn import metrics\n",
    "from sklearn.linear_model import LogisticRegression\n",
    "lr = LogisticRegression(penalty='l2', C=0.08, solver='lbfgs')\n",
    "# lr = LogisticRegression(penalty='elasticnet', C=0.2, solver='saga')\n",
    "\n",
    "lr.fit(X_train_cv, y_train)\n",
    "lr_bow_prediction = lr.predict(X_test_cv)\n",
    "\n",
    "print (metrics.accuracy_score(y_test , lr_bow_prediction))\n",
    "print (metrics.confusion_matrix(y_test , lr_bow_prediction))\n",
    "\n",
    "print(\"F1 score: \", metrics.f1_score(y_test , lr_bow_prediction))\n",
    "print(\"Precision score: \" , metrics.precision_score(y_test , lr_bow_prediction))\n",
    "print(\"Recall score: \" , metrics.recall_score(y_test , lr_bow_prediction))"
   ]
  },
  {
   "cell_type": "markdown",
   "metadata": {},
   "source": [
    "# Using tf-idf from gensim, not sklearn\n",
    "Need Preet to look at this. I can't get it to work with ML models."
   ]
  },
  {
   "cell_type": "code",
   "execution_count": 25,
   "metadata": {},
   "outputs": [],
   "source": [
    "import gensim.downloader as api\n",
    "from gensim.models import TfidfModel\n",
    "from gensim.corpora import Dictionary\n",
    "\n",
    "dataset = df['formatted']\n",
    "dct = Dictionary(dataset)  # fit dictionary\n",
    "corpus = [dct.doc2bow(line) for line in dataset]  # convert corpus to BoW format\n",
    "\n",
    "gtfidf = TfidfModel(corpus)  \n",
    "# gensim_x = gtfidf(X_train)"
   ]
  },
  {
   "cell_type": "code",
   "execution_count": 27,
   "metadata": {},
   "outputs": [],
   "source": [
    "# from gensim.models import TfidfModel\n",
    "# test = TfidfModel(corpus)\n",
    "# from gen\n",
    "# vectors = [model[dictionary.doc2bow(doc)] for doc in X_train]\n",
    "import gensim\n",
    "X = df['form_str']\n",
    "\n",
    "corpus  = [doc for doc in X_train]\n",
    "lexicon = gensim.corpora.Dictionary(corpus)\n",
    "tfidf   = gensim.models.TfidfModel(dictionary=lexicon, normalize=True)\n",
    "vectors = [tfidf[lexicon.doc2bow(doc)] for doc in corpus]"
   ]
  },
  {
   "cell_type": "code",
   "execution_count": null,
   "metadata": {},
   "outputs": [],
   "source": [
    "from gensim.sklearn_api import TfIdfTransformer\n",
    "from gensim.corpora import Dictionary\n",
    "X = df['formatted']\n",
    "from sklearn.model_selection import train_test_split\n",
    "X_train, X_test, y_train, y_test = train_test_split(X,y)\n",
    "\n",
    "dictionary = Dictionary(X_train)\n",
    "model = TfIdfTransformer(dictionary)\n",
    "train = [dictionary.doc2bow(text) for text in X_train]\n",
    "test = [dictionary.doc2bow(text) for text in X_test]\n",
    "X_train_g =  model.fit_transform(train)\n",
    "X_test_g = model.fit_transform(test)"
   ]
  },
  {
   "cell_type": "code",
   "execution_count": 29,
   "metadata": {},
   "outputs": [],
   "source": [
    "from sklearn.naive_bayes import MultinomialNB\n",
    "clf = MultinomialNB()\n",
    "clf = clf.fit(X_train_g, y_train)\n",
    "y_preds=clf.predict(X_test_g)\n",
    "print('Accuracy score: ', accuracy_score(y_test, y_preds))\n",
    "print(\"F1 score: \", metrics.f1_score(y_test , y_preds))"
   ]
  },
  {
   "cell_type": "code",
   "execution_count": null,
   "metadata": {},
   "outputs": [],
   "source": [
    "from lightgbm import LGBMClassifier\n",
    "lgb = LGBMClassifier(penalty='l2', max_iter=500, C=0.8, solver='lbfgs')\n",
    "lgb.fit(X_train_g, y_train)\n",
    "lr_bow_prediction = lgb.predict(X_test_g)\n",
    "\n",
    "print (metrics.confusion_matrix(y_test , lr_bow_prediction))\n",
    "print(\"F1 score: \", metrics.f1_score(y_test , lr_bow_prediction))\n",
    "print(\"Precision score: \" , metrics.precision_score(y_test , lr_bow_prediction))\n",
    "print(\"Recall score: \" , metrics.recall_score(y_test , lr_bow_prediction))"
   ]
  },
  {
   "cell_type": "markdown",
   "metadata": {},
   "source": [
    "# Using sklearn's tf-idf:"
   ]
  },
  {
   "cell_type": "code",
   "execution_count": 30,
   "metadata": {},
   "outputs": [],
   "source": [
    "from sklearn.feature_extraction.text import TfidfVectorizer\n",
    "tfid = TfidfVectorizer(use_idf=True, min_df=3, analyzer='word', smooth_idf=True,\n",
    "                       norm = 'l2', ngram_range=[3,5], sublinear_tf=True)\n",
    "# X=df['form_str']\n",
    "X=df['tokenstr']\n",
    "X_train, X_test, y_train, y_test = train_test_split(X,y)\n",
    "tfid_train_matrix = tfid.fit_transform(X_train)\n",
    "tfid_test_matrix = tfid.transform(X_test)"
   ]
  },
  {
   "cell_type": "code",
   "execution_count": 31,
   "metadata": {},
   "outputs": [
    {
     "name": "stdout",
     "output_type": "stream",
     "text": [
      "[[191 356]\n",
      " [179 533]]\n",
      "F1 score:  0.6658338538413492\n",
      "Precision score:  0.5995500562429696\n",
      "Recall score:  0.7485955056179775\n"
     ]
    }
   ],
   "source": [
    "#LightGBM is weak with NLP applications.\n",
    "from lightgbm import LGBMClassifier\n",
    "lgb = LGBMClassifier(n_estimators=450, learning_rate=0.1, reg_alpha=0.2, reg_lambda=0)\n",
    "lgb.fit(tfid_train_matrix, y_train)\n",
    "lr_bow_prediction = lgb.predict(tfid_test_matrix)\n",
    "\n",
    "print (metrics.confusion_matrix(y_test , lr_bow_prediction))\n",
    "print(\"F1 score: \", metrics.f1_score(y_test , lr_bow_prediction))\n",
    "print(\"Precision score: \" , metrics.precision_score(y_test , lr_bow_prediction))\n",
    "print(\"Recall score: \" , metrics.recall_score(y_test , lr_bow_prediction))"
   ]
  },
  {
   "cell_type": "code",
   "execution_count": 33,
   "metadata": {},
   "outputs": [
    {
     "name": "stdout",
     "output_type": "stream",
     "text": [
      "[[  0 547]\n",
      " [  0 712]]\n",
      "F1 score:  0.7224759005580924\n",
      "Precision score:  0.5655281969817315\n",
      "Recall score:  1.0\n"
     ]
    },
    {
     "data": {
      "image/png": "[encoded data removed]",
      "text/plain": [
       "<Figure size 432x288 with 1 Axes>"
      ]
     },
     "metadata": {
      "needs_background": "light"
     },
     "output_type": "display_data"
    }
   ],
   "source": [
    "#Best score: .7266\n",
    "from sklearn import metrics\n",
    "from sklearn.linear_model import LogisticRegression\n",
    "lr = LogisticRegression(penalty='l1', max_iter=500, C=0.1, solver='liblinear', intercept_scaling=1.1)\n",
    "lr.fit(tfid_train_matrix, y_train)\n",
    "lr_bow_prediction = lr.predict(tfid_test_matrix)\n",
    "\n",
    "print (metrics.confusion_matrix(y_test , lr_bow_prediction))\n",
    "print(\"F1 score: \", metrics.f1_score(y_test , lr_bow_prediction))\n",
    "print(\"Precision score: \" , metrics.precision_score(y_test , lr_bow_prediction))\n",
    "print(\"Recall score: \" , metrics.recall_score(y_test , lr_bow_prediction))\n",
    "\n",
    "probs = lr.predict_proba(tfid_test_matrix)\n",
    "lr_probs = probs[:, 1]\n",
    "ns_probs = [0 for _ in range(len(y_test))]\n",
    "# calculate roc curves\n",
    "ns_fpr, ns_tpr, _ = roc_curve(y_test, ns_probs)\n",
    "lr_fpr, lr_tpr, _ = roc_curve(y_test, lr_probs)\n",
    "# plot the roc curve for the model\n",
    "plt.plot(ns_fpr, ns_tpr, linestyle='--', label='No Skill')\n",
    "plt.plot(lr_fpr, lr_tpr, marker='.', label='Logistic Regressor')\n",
    "# axis labels\n",
    "plt.xlabel('False Positive Rate')\n",
    "plt.ylabel('True Positive Rate')\n",
    "# show the legend\n",
    "plt.legend()\n",
    "plt.show()\n",
    "#It's just guessing everything one gender. This is the worst-case scenario."
   ]
  },
  {
   "cell_type": "code",
   "execution_count": null,
   "metadata": {},
   "outputs": [],
   "source": [
    "from sklearn.metrics import precision_recall_curve\n",
    "lr_precision, lr_recall, _ = precision_recall_curve(y_test, lr_probs)\n",
    "lr_f1, lr_auc = f1_score(y_test, y_preds), roc_curve(lr_recall, lr_precision)\n",
    "# summarize scores\n",
    "print('Logistic: f1=%.3f auc=%.3f' % (lr_f1, lr_auc))\n",
    "# plot the precision-recall curves\n",
    "no_skill = len(y_test[y_test==1]) / len(y_test)\n",
    "pyplot.plot([0, 1], [no_skill, no_skill], linestyle='--', label='No Skill')\n",
    "pyplot.plot(lr_recall, lr_precision, marker='.', label='Logistic')\n",
    "# axis labels\n",
    "pyplot.xlabel('Recall')\n",
    "pyplot.ylabel('Precision')\n",
    "# show the legend\n",
    "pyplot.legend()\n",
    "# show the plot\n",
    "pyplot.show()"
   ]
  },
  {
   "cell_type": "code",
   "execution_count": null,
   "metadata": {},
   "outputs": [],
   "source": [
    "#Best score .7266\n",
    "from sklearn.naive_bayes import MultinomialNB, GaussianNB\n",
    "clf = MultinomialNB(alpha=8.7)\n",
    "# clf=GaussianNB(var_smoothing=1e-09)\n",
    "clf = clf.fit(tfid_train_matrix.toarray(), y_train)\n",
    "y_preds=clf.predict(tfid_test_matrix.toarray())\n",
    "print('Accuracy score: ', accuracy_score(y_test, y_preds))\n",
    "print(\"F1 score: \", metrics.f1_score(y_test , y_preds))"
   ]
  },
  {
   "cell_type": "code",
   "execution_count": null,
   "metadata": {},
   "outputs": [],
   "source": [
    "from xgboost import XGBClassifier\n",
    "clf = XGBClassifier(num_boosting_rounds=900, learning_rate=.25, min_samples_split=10)\n",
    "clf.fit(tfid_train_matrix, y_train)\n",
    "y_preds=clf.predict(tfid_test_matrix)\n",
    "print('Accuracy score: ', accuracy_score(y_test, y_preds))\n",
    "print(\"F1 score: \", metrics.f1_score(y_test , y_preds))"
   ]
  },
  {
   "cell_type": "markdown",
   "metadata": {},
   "source": [
    "# Time to use Word2Vec"
   ]
  },
  {
   "cell_type": "code",
   "execution_count": 34,
   "metadata": {},
   "outputs": [
    {
     "name": "stderr",
     "output_type": "stream",
     "text": [
      "/home/drew/anaconda3/lib/python3.7/site-packages/ipykernel_launcher.py:7: DeprecationWarning: Call to deprecated `syn0` (Attribute will be removed in 4.0.0, use self.vectors instead).\n",
      "  import sys\n"
     ]
    },
    {
     "data": {
      "text/plain": [
       "['.',\n",
       " ',',\n",
       " 'the',\n",
       " 'i',\n",
       " 'to',\n",
       " 'and',\n",
       " 'a',\n",
       " 'of',\n",
       " 'it',\n",
       " 'that',\n",
       " 'in',\n",
       " 'is',\n",
       " 'my',\n",
       " '...',\n",
       " 'you']"
      ]
     },
     "execution_count": 34,
     "metadata": {},
     "output_type": "execute_result"
    }
   ],
   "source": [
    "#Make tokenized versions of X_train\n",
    "import nltk\n",
    "X_train_tok = [nltk.word_tokenize(t) for t in X_train]\n",
    "X_test_tok = [nltk.word_tokenize(t) for t in X_test]\n",
    "from gensim.models import Word2Vec\n",
    "w2vm = Word2Vec(X_train_tok, size=350, window=15, negative=2)\n",
    "w2v = dict(zip(w2vm.wv.index2word, w2vm.wv.syn0))\n",
    "w2vm.wv.index2entity[:15]"
   ]
  },
  {
   "cell_type": "code",
   "execution_count": 38,
   "metadata": {},
   "outputs": [],
   "source": [
    "def averaged_word2vec_vectorizer(corpus , model , num_features):\n",
    "    vocabulary = set (model.wv.index2word)\n",
    "    def average_word_vectors(words, model , vocabulary , num_features):\n",
    "        feature_vector = np.zeros((num_features) , dtype = 'float64')\n",
    "        nwords = 0\n",
    "        for word in words : \n",
    "            if word in vocabulary:\n",
    "                nwords += 1 \n",
    "                feature_vector = np.add(feature_vector , model.wv[word])\n",
    "        if nwords: \n",
    "            feature_vector = np.divide(feature_vector , nwords)\n",
    "        return feature_vector\n",
    "    \n",
    "    features = [average_word_vectors(tokenized_sentence , model, vocabulary , num_features) \n",
    "                for tokenized_sentence in corpus]\n",
    "    return np.array(features)\n",
    "\n",
    "avg_wv_train_features = averaged_word2vec_vectorizer(corpus= X_train_tok , model = w2vm, num_features= 350)\n",
    "avg_wv_test_features = averaged_word2vec_vectorizer(corpus= X_test_tok , model = w2vm , num_features= 350)"
   ]
  },
  {
   "cell_type": "code",
   "execution_count": 37,
   "metadata": {},
   "outputs": [
    {
     "data": {
      "text/plain": [
       "(2390860, 3614084)"
      ]
     },
     "execution_count": 37,
     "metadata": {},
     "output_type": "execute_result"
    }
   ],
   "source": [
    "w2vm.train(X_train_tok, total_examples=len(X_train_tok), epochs=4)"
   ]
  },
  {
   "cell_type": "code",
   "execution_count": 39,
   "metadata": {},
   "outputs": [
    {
     "name": "stdout",
     "output_type": "stream",
     "text": [
      "0.596505162827641\n",
      "[[218 329]\n",
      " [179 533]]\n",
      "F1 score:  0.6772554002541296\n",
      "Precision score:  0.6183294663573086\n",
      "Recall score:  0.7485955056179775\n"
     ]
    }
   ],
   "source": [
    "lr = LogisticRegression(penalty='l1', max_iter=500, C=2, solver='liblinear')\n",
    "lr.fit(avg_wv_train_features, y_train)\n",
    "lr_bow_prediction = lr.predict(avg_wv_test_features)\n",
    "\n",
    "print (metrics.accuracy_score(y_test , lr_bow_prediction))\n",
    "print (metrics.confusion_matrix(y_test , lr_bow_prediction))\n",
    "\n",
    "print(\"F1 score: \", metrics.f1_score(y_test , lr_bow_prediction))\n",
    "print(\"Precision score: \" , metrics.precision_score(y_test , lr_bow_prediction))\n",
    "print(\"Recall score: \" , metrics.recall_score(y_test , lr_bow_prediction))"
   ]
  },
  {
   "cell_type": "code",
   "execution_count": 40,
   "metadata": {},
   "outputs": [
    {
     "name": "stdout",
     "output_type": "stream",
     "text": [
      "[[  0 547]\n",
      " [  0 712]]\n",
      "Accuracy score:  0.5655281969817315\n",
      "F1 score:  0.7224759005580924\n"
     ]
    }
   ],
   "source": [
    "#Best score so far: .71318\n",
    "#But it gives everything one gender.\n",
    "from sklearn.svm import SVC\n",
    "clf = SVC(gamma = 'auto', C=0.1, kernel='poly', degree=2)\n",
    "clf.fit(avg_wv_train_features, y_train)\n",
    "y_preds=clf.predict(avg_wv_test_features)\n",
    "print(metrics.confusion_matrix(y_test , y_preds))\n",
    "print('Accuracy score: ', accuracy_score(y_test, y_preds))\n",
    "print(\"F1 score: \", metrics.f1_score(y_test , y_preds))"
   ]
  },
  {
   "cell_type": "code",
   "execution_count": 46,
   "metadata": {},
   "outputs": [
    {
     "name": "stdout",
     "output_type": "stream",
     "text": [
      "[[282 265]\n",
      " [219 493]]\n",
      "Accuracy score:  0.6155679110405083\n",
      "F1 score:  0.670748299319728\n"
     ]
    }
   ],
   "source": [
    "from xgboost import XGBClassifier\n",
    "clf = XGBClassifier(num_boosting_rounds=500, eta=0.09)\n",
    "clf.fit(avg_wv_train_features, y_train)\n",
    "y_preds=clf.predict(avg_wv_test_features)\n",
    "print(metrics.confusion_matrix(y_test, y_preds))\n",
    "print('Accuracy score: ', accuracy_score(y_test, y_preds))\n",
    "print(\"F1 score: \", metrics.f1_score(y_test , y_preds))\n",
    "#Best score? 0.679"
   ]
  },
  {
   "cell_type": "code",
   "execution_count": 44,
   "metadata": {},
   "outputs": [
    {
     "name": "stdout",
     "output_type": "stream",
     "text": [
      "[[272 275]\n",
      " [222 490]]\n",
      "F1 score:  0.6635071090047393\n",
      "Precision score:  0.6405228758169934\n",
      "Recall score:  0.6882022471910112\n"
     ]
    }
   ],
   "source": [
    "from lightgbm import LGBMClassifier\n",
    "lgb = LGBMClassifier(n_estimators=400, reg_alpha=0.2, reg_lambda=0.4)\n",
    "lgb.fit(avg_wv_train_features, y_train)\n",
    "lr_bow_prediction = lgb.predict(avg_wv_test_features)\n",
    "\n",
    "print (metrics.confusion_matrix(y_test, lr_bow_prediction))\n",
    "print(\"F1 score: \", metrics.f1_score(y_test, lr_bow_prediction))\n",
    "print(\"Precision score: \" , metrics.precision_score(y_test, lr_bow_prediction))\n",
    "print(\"Recall score: \" , metrics.recall_score(y_test, lr_bow_prediction))"
   ]
  },
  {
   "cell_type": "markdown",
   "metadata": {},
   "source": [
    "# FastAI's ULMFiT\n",
    "This model is performing strangely now."
   ]
  },
  {
   "cell_type": "code",
   "execution_count": 54,
   "metadata": {},
   "outputs": [],
   "source": [
    "# train_df = pd.DataFrame(avg_wv_train_features)\n",
    "train_df = pd.DataFrame(avg_wv_train_features)\n",
    "train_df['gender'] = y_train\n",
    "valid_df = pd.DataFrame(avg_wv_test_features)\n",
    "valid_df['gender'] = y_test\n",
    "\n",
    "from fastai.text import * \n",
    "data_lm = TextClasDataBunch.from_df(path='.',train_df = train_df, valid_df=valid_df, \n",
    "                                    label_cols='gender')"
   ]
  },
  {
   "cell_type": "code",
   "execution_count": null,
   "metadata": {},
   "outputs": [],
   "source": [
    "# df.head()"
   ]
  },
  {
   "cell_type": "code",
   "execution_count": 55,
   "metadata": {},
   "outputs": [],
   "source": [
    "learn = text_classifier_learner(data_lm, AWD_LSTM, drop_mult=0.3, pretrained=False)"
   ]
  },
  {
   "cell_type": "code",
   "execution_count": 56,
   "metadata": {},
   "outputs": [
    {
     "data": {
      "text/html": [
       "<table border=\"1\" class=\"dataframe\">\n",
       "  <thead>\n",
       "    <tr style=\"text-align: right;\">\n",
       "      <th>text</th>\n",
       "      <th>target</th>\n",
       "    </tr>\n",
       "  </thead>\n",
       "  <tbody>\n",
       "    <tr>\n",
       "      <td>xxbos 0 . xxrep 4 1 xxunk</td>\n",
       "      <td>1</td>\n",
       "    </tr>\n",
       "    <tr>\n",
       "      <td>xxbos xxunk . xxrep 4 1 xxunk</td>\n",
       "      <td>1</td>\n",
       "    </tr>\n",
       "    <tr>\n",
       "      <td>xxbos xxunk xxrep 4 3 xxunk</td>\n",
       "      <td>1</td>\n",
       "    </tr>\n",
       "    <tr>\n",
       "      <td>xxbos xxunk xxrep 4 8 xxunk</td>\n",
       "      <td>1</td>\n",
       "    </tr>\n",
       "    <tr>\n",
       "      <td>xxbos xxunk xxrep 5 8 9</td>\n",
       "      <td>1</td>\n",
       "    </tr>\n",
       "  </tbody>\n",
       "</table>"
      ],
      "text/plain": [
       "<IPython.core.display.HTML object>"
      ]
     },
     "metadata": {},
     "output_type": "display_data"
    }
   ],
   "source": [
    "data_lm.show_batch()"
   ]
  },
  {
   "cell_type": "code",
   "execution_count": 57,
   "metadata": {},
   "outputs": [
    {
     "data": {
      "text/html": [
       "<table border=\"1\" class=\"dataframe\">\n",
       "  <thead>\n",
       "    <tr style=\"text-align: left;\">\n",
       "      <th>epoch</th>\n",
       "      <th>train_loss</th>\n",
       "      <th>valid_loss</th>\n",
       "      <th>accuracy</th>\n",
       "      <th>time</th>\n",
       "    </tr>\n",
       "  </thead>\n",
       "  <tbody>\n",
       "    <tr>\n",
       "      <td>0</td>\n",
       "      <td>0.732185</td>\n",
       "      <td>0.689847</td>\n",
       "      <td>0.565528</td>\n",
       "      <td>00:29</td>\n",
       "    </tr>\n",
       "    <tr>\n",
       "      <td>1</td>\n",
       "      <td>0.701289</td>\n",
       "      <td>0.728214</td>\n",
       "      <td>0.440826</td>\n",
       "      <td>00:41</td>\n",
       "    </tr>\n",
       "    <tr>\n",
       "      <td>2</td>\n",
       "      <td>0.694369</td>\n",
       "      <td>0.906324</td>\n",
       "      <td>0.565528</td>\n",
       "      <td>00:45</td>\n",
       "    </tr>\n",
       "  </tbody>\n",
       "</table>"
      ],
      "text/plain": [
       "<IPython.core.display.HTML object>"
      ]
     },
     "metadata": {},
     "output_type": "display_data"
    }
   ],
   "source": [
    "learn.fit_one_cycle(3, 3e-2)"
   ]
  },
  {
   "cell_type": "code",
   "execution_count": null,
   "metadata": {},
   "outputs": [],
   "source": [
    "# pd.Series(pred_val).value_counts()"
   ]
  },
  {
   "cell_type": "code",
   "execution_count": 52,
   "metadata": {},
   "outputs": [],
   "source": [
    "# learn.config()"
   ]
  },
  {
   "cell_type": "code",
   "execution_count": 58,
   "metadata": {},
   "outputs": [
    {
     "name": "stdout",
     "output_type": "stream",
     "text": [
      "              precision    recall  f1-score   support\n",
      "\n",
      "           0       0.00      0.00      0.00       547\n",
      "           1       0.57      1.00      0.72       712\n",
      "\n",
      "    accuracy                           0.57      1259\n",
      "   macro avg       0.28      0.50      0.36      1259\n",
      "weighted avg       0.32      0.57      0.41      1259\n",
      "\n"
     ]
    },
    {
     "name": "stderr",
     "output_type": "stream",
     "text": [
      "/home/drew/anaconda3/lib/python3.7/site-packages/sklearn/metrics/classification.py:1437: UndefinedMetricWarning: Precision and F-score are ill-defined and being set to 0.0 in labels with no predicted samples.\n",
      "  'precision', 'predicted', average, warn_for)\n",
      "/home/drew/anaconda3/lib/python3.7/site-packages/sklearn/metrics/classification.py:1437: UndefinedMetricWarning: Precision and F-score are ill-defined and being set to 0.0 in labels with no predicted samples.\n",
      "  'precision', 'predicted', average, warn_for)\n",
      "/home/drew/anaconda3/lib/python3.7/site-packages/sklearn/metrics/classification.py:1437: UndefinedMetricWarning: Precision and F-score are ill-defined and being set to 0.0 in labels with no predicted samples.\n",
      "  'precision', 'predicted', average, warn_for)\n"
     ]
    }
   ],
   "source": [
    "pred_val = learn.get_preds(DatasetType.Valid, ordered=True)\n",
    "pred_val_l = pred_val[0].argmax(1)\n",
    "print(classification_report(pred_val[1], pred_val_l))"
   ]
  },
  {
   "cell_type": "code",
   "execution_count": null,
   "metadata": {},
   "outputs": [],
   "source": [
    "# df['tokenstr']\n",
    "#I need to take out the formatting if I'm going to use deep learning."
   ]
  },
  {
   "cell_type": "code",
   "execution_count": 59,
   "metadata": {},
   "outputs": [],
   "source": [
    "clf = text_classifier_learner(data_lm, AWD_LSTM, drop_mult=0.25, pretrained=False)\n",
    "# pred_val = clf.get_preds(DatasetType.Valid, ordered=True)"
   ]
  },
  {
   "cell_type": "code",
   "execution_count": 60,
   "metadata": {},
   "outputs": [
    {
     "data": {
      "text/html": [
       "<table border=\"1\" class=\"dataframe\">\n",
       "  <thead>\n",
       "    <tr style=\"text-align: left;\">\n",
       "      <th>epoch</th>\n",
       "      <th>train_loss</th>\n",
       "      <th>valid_loss</th>\n",
       "      <th>accuracy</th>\n",
       "      <th>time</th>\n",
       "    </tr>\n",
       "  </thead>\n",
       "  <tbody>\n",
       "    <tr>\n",
       "      <td>0</td>\n",
       "      <td>0.744680</td>\n",
       "      <td>0.883906</td>\n",
       "      <td>0.565528</td>\n",
       "      <td>01:55</td>\n",
       "    </tr>\n",
       "    <tr>\n",
       "      <td>1</td>\n",
       "      <td>0.704764</td>\n",
       "      <td>221.966644</td>\n",
       "      <td>0.559174</td>\n",
       "      <td>01:28</td>\n",
       "    </tr>\n",
       "    <tr>\n",
       "      <td>2</td>\n",
       "      <td>0.696236</td>\n",
       "      <td>215.754990</td>\n",
       "      <td>0.565528</td>\n",
       "      <td>01:30</td>\n",
       "    </tr>\n",
       "    <tr>\n",
       "      <td>3</td>\n",
       "      <td>0.691307</td>\n",
       "      <td>124.042480</td>\n",
       "      <td>0.565528</td>\n",
       "      <td>01:34</td>\n",
       "    </tr>\n",
       "    <tr>\n",
       "      <td>4</td>\n",
       "      <td>0.691720</td>\n",
       "      <td>736.526184</td>\n",
       "      <td>0.559174</td>\n",
       "      <td>01:41</td>\n",
       "    </tr>\n",
       "  </tbody>\n",
       "</table>"
      ],
      "text/plain": [
       "<IPython.core.display.HTML object>"
      ]
     },
     "metadata": {},
     "output_type": "display_data"
    }
   ],
   "source": [
    "# clf.recorder.plot()\n",
    "clf.fit(5, 7e-2)"
   ]
  },
  {
   "cell_type": "code",
   "execution_count": null,
   "metadata": {},
   "outputs": [],
   "source": [
    "pred_val = clf.get_preds(DatasetType.Valid, ordered=True)\n",
    "pred_val_l = pred_val[0].argmax(1)\n",
    "print(classification_report(pred_val[1], pred_val_l))"
   ]
  },
  {
   "cell_type": "markdown",
   "metadata": {},
   "source": [
    "# Now trying a LSTM model.\n",
    "This model does much worse than any previous ones."
   ]
  },
  {
   "cell_type": "code",
   "execution_count": null,
   "metadata": {},
   "outputs": [],
   "source": [
    "from sklearn.preprocessing import LabelEncoder\n",
    "import keras\n",
    "le = LabelEncoder()\n",
    "\n",
    "y_tr = le.fit_transform(y_train)\n",
    "y_dnn_train = keras.utils.to_categorical(y_tr , num_classes= 2)\n",
    "\n",
    "y_ts = le.fit_transform(y_test)\n",
    "y_dnn_test = keras.utils.to_categorical(y_ts , num_classes= 2)"
   ]
  },
  {
   "cell_type": "code",
   "execution_count": null,
   "metadata": {},
   "outputs": [],
   "source": [
    "from keras.models import Sequential\n",
    "from keras.layers import Dropout, Activation, Dense , Flatten\n",
    "from sklearn.preprocessing import LabelEncoder\n",
    "from keras.layers.normalization import BatchNormalization\n",
    "from keras.optimizers import Adam , SGD \n",
    "from keras import regularizers, Sequential\n",
    "\n",
    "model = Sequential()\n",
    "# Hidden Layers\n",
    "model.add(Dense(64, activation='tanh', input_shape=(8785,), kernel_regularizer = regularizers.l2(0.05) ))\n",
    "model.add(Dropout(0.3))\n",
    "model.add(Dense(64 , activation = 'tanh'))\n",
    "model.add(Dropout(0.3))\n",
    "model.add(Dense(64 , activation = 'tanh'))\n",
    "model.add(BatchNormalization())\n",
    "# Output Layer\n",
    "model.add(Dense(2, activation='softmax'))\n",
    "model.summary()"
   ]
  },
  {
   "cell_type": "code",
   "execution_count": null,
   "metadata": {},
   "outputs": [],
   "source": [
    "from keras import backend as K\n",
    "\n",
    "def recall_m(y_true, y_pred):\n",
    "        true_positives = K.sum(K.round(K.clip(y_true * y_pred, 0, 1)))\n",
    "        possible_positives = K.sum(K.round(K.clip(y_true, 0, 1)))\n",
    "        recall = true_positives / (possible_positives + K.epsilon())\n",
    "        return recall\n",
    "def precision_m(y_true, y_pred):\n",
    "        true_positives = K.sum(K.round(K.clip(y_true * y_pred, 0, 1)))\n",
    "        predicted_positives = K.sum(K.round(K.clip(y_pred, 0, 1)))\n",
    "        precision = true_positives / (predicted_positives + K.epsilon())\n",
    "        return precision\n",
    "def f1_m(y_true, y_pred):\n",
    "    precision = precision_m(y_true, y_pred)\n",
    "    recall = recall_m(y_true, y_pred)\n",
    "    return 2*((precision*recall)/(precision+recall+K.epsilon()))\n",
    "\n",
    "model.compile(loss = 'binary_crossentropy' , optimizer= 'adam' , metrics = ['acc',f1_m,precision_m, recall_m])"
   ]
  },
  {
   "cell_type": "code",
   "execution_count": null,
   "metadata": {},
   "outputs": [],
   "source": [
    "model.fit(tfid_train_matrix, y_dnn_train, batch_size=500, epochs=200, verbose=1, \n",
    "          validation_data=(tfid_test_matrix, y_dnn_test))"
   ]
  },
  {
   "cell_type": "code",
   "execution_count": null,
   "metadata": {},
   "outputs": [],
   "source": []
  }
 ],
 "metadata": {
  "kernelspec": {
   "display_name": "Python 3",
   "language": "python",
   "name": "python3"
  },
  "language_info": {
   "codemirror_mode": {
    "name": "ipython",
    "version": 3
   },
   "file_extension": ".py",
   "mimetype": "text/x-python",
   "name": "python",
   "nbconvert_exporter": "python",
   "pygments_lexer": "ipython3",
   "version": "3.7.3"
  }
 },
 "nbformat": 4,
 "nbformat_minor": 2
}
