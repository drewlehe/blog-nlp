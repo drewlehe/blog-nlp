{
 "cells": [
  {
   "cell_type": "code",
   "execution_count": 1,
   "metadata": {},
   "outputs": [],
   "source": [
    "import pandas as pd\n",
    "import numpy as np\n",
    "import matplotlib.pyplot as plt\n",
    "import seaborn as sns\n",
    "sns.set(style='darkgrid')\n",
    "df = pd.read_csv('blogtext.csv', parse_dates = ['date']).sample(10000)"
   ]
  },
  {
   "cell_type": "code",
   "execution_count": 2,
   "metadata": {},
   "outputs": [
    {
     "data": {
      "text/html": [
       "<div>\n",
       "<style scoped>\n",
       "    .dataframe tbody tr th:only-of-type {\n",
       "        vertical-align: middle;\n",
       "    }\n",
       "\n",
       "    .dataframe tbody tr th {\n",
       "        vertical-align: top;\n",
       "    }\n",
       "\n",
       "    .dataframe thead th {\n",
       "        text-align: right;\n",
       "    }\n",
       "</style>\n",
       "<table border=\"1\" class=\"dataframe\">\n",
       "  <thead>\n",
       "    <tr style=\"text-align: right;\">\n",
       "      <th></th>\n",
       "      <th>id</th>\n",
       "      <th>gender</th>\n",
       "      <th>age</th>\n",
       "      <th>topic</th>\n",
       "      <th>sign</th>\n",
       "      <th>date</th>\n",
       "      <th>text</th>\n",
       "    </tr>\n",
       "  </thead>\n",
       "  <tbody>\n",
       "    <tr>\n",
       "      <th>0</th>\n",
       "      <td>4017562</td>\n",
       "      <td>female</td>\n",
       "      <td>14</td>\n",
       "      <td>Arts</td>\n",
       "      <td>Virgo</td>\n",
       "      <td>10,August,2004</td>\n",
       "      <td>Fuck you.  Thats all I have...</td>\n",
       "    </tr>\n",
       "    <tr>\n",
       "      <th>1</th>\n",
       "      <td>589736</td>\n",
       "      <td>male</td>\n",
       "      <td>35</td>\n",
       "      <td>Technology</td>\n",
       "      <td>Aries</td>\n",
       "      <td>05,August,2004</td>\n",
       "      <td>umm, yel, that's me mir not jls.   ...</td>\n",
       "    </tr>\n",
       "    <tr>\n",
       "      <th>2</th>\n",
       "      <td>3676452</td>\n",
       "      <td>male</td>\n",
       "      <td>37</td>\n",
       "      <td>Marketing</td>\n",
       "      <td>Gemini</td>\n",
       "      <td>11,August,2004</td>\n",
       "      <td>This is an old news item from AP bu...</td>\n",
       "    </tr>\n",
       "    <tr>\n",
       "      <th>3</th>\n",
       "      <td>871501</td>\n",
       "      <td>female</td>\n",
       "      <td>27</td>\n",
       "      <td>Marketing</td>\n",
       "      <td>Gemini</td>\n",
       "      <td>24,January,2004</td>\n",
       "      <td>Hi!  I will post more very soon...l...</td>\n",
       "    </tr>\n",
       "    <tr>\n",
       "      <th>4</th>\n",
       "      <td>2861748</td>\n",
       "      <td>female</td>\n",
       "      <td>27</td>\n",
       "      <td>Education</td>\n",
       "      <td>Cancer</td>\n",
       "      <td>09,May,2004</td>\n",
       "      <td>I write to get these Sylvia P...</td>\n",
       "    </tr>\n",
       "  </tbody>\n",
       "</table>\n",
       "</div>"
      ],
      "text/plain": [
       "        id  gender  age       topic    sign             date  \\\n",
       "0  4017562  female   14        Arts   Virgo   10,August,2004   \n",
       "1   589736    male   35  Technology   Aries   05,August,2004   \n",
       "2  3676452    male   37   Marketing  Gemini   11,August,2004   \n",
       "3   871501  female   27   Marketing  Gemini  24,January,2004   \n",
       "4  2861748  female   27   Education  Cancer      09,May,2004   \n",
       "\n",
       "                                                text  \n",
       "0                     Fuck you.  Thats all I have...  \n",
       "1             umm, yel, that's me mir not jls.   ...  \n",
       "2             This is an old news item from AP bu...  \n",
       "3             Hi!  I will post more very soon...l...  \n",
       "4                   I write to get these Sylvia P...  "
      ]
     },
     "execution_count": 2,
     "metadata": {},
     "output_type": "execute_result"
    }
   ],
   "source": [
    "df = df[df['topic']!='indUnk']\n",
    "df = df[df['topic']!='Student'].copy()\n",
    "df.reset_index(drop=True, inplace=True)\n",
    "df.head()"
   ]
  },
  {
   "cell_type": "code",
   "execution_count": 3,
   "metadata": {},
   "outputs": [
    {
     "data": {
      "text/plain": [
       "0    [fuck, s, right, o, asshole, walk, family, lik...\n",
       "1                                 [umm, yel, mir, jls]\n",
       "2    [old, news, item, ap, come, time, pass, syracu...\n",
       "3    [hello, post, soon, like, late, tonight, want,...\n",
       "4    [write, sylvia, plath, ghost, head, write, pro...\n",
       "Name: formatted, dtype: object"
      ]
     },
     "execution_count": 3,
     "metadata": {},
     "output_type": "execute_result"
    }
   ],
   "source": [
    "import spacy\n",
    "import re\n",
    "nlp = spacy.load('en_core_web_sm')\n",
    "\n",
    "#Creating the tokens, which are an important spaCy datatype.\n",
    "df['tokens'] = df['text'].apply(lambda x: nlp.tokenizer(x.lower()))\n",
    "spacy_stopwords = [spacy.lang.en.stop_words.STOP_WORDS] + ['urllink']\n",
    "\n",
    "#Turning the tokens to Python datatypes and cleaning, for non-spaCy work.\n",
    "def clean(lst):\n",
    "#     lst = [token for token in lst if not token.is_stop]\n",
    "    lst = [token.lemma_ for token in lst if not token.is_stop]\n",
    "#     lst.remove('urllink') if 'urllink' in lst else lst\n",
    "#     lst.remove('nbsp') if 'nbsp' in lst else lst\n",
    "    lst = [l.replace('nbsp', '').replace('urllink', '') for l in lst]\n",
    "    lst = [re.sub(r'[\\W]', '', string) for string in lst]\n",
    "    while '' in lst:\n",
    "        lst.remove('')\n",
    "    return lst\n",
    "df['formatted'] = df['tokens'].map(lambda x: clean(x))\n",
    "\n",
    "#Creating a single-string version of the cleaned texts, for tools that require it.\n",
    "df['form_str'] = df['formatted'].map(lambda x: ' '.join(x))\n",
    "df['formatted'].head()"
   ]
  },
  {
   "cell_type": "code",
   "execution_count": 4,
   "metadata": {},
   "outputs": [
    {
     "data": {
      "text/plain": [
       "<matplotlib.axes._subplots.AxesSubplot at 0x7f5141420e48>"
      ]
     },
     "execution_count": 4,
     "metadata": {},
     "output_type": "execute_result"
    },
    {
     "data": {
      "image/png": "[encoded data removed]",
      "text/plain": [
       "<Figure size 648x648 with 1 Axes>"
      ]
     },
     "metadata": {
      "needs_background": "light"
     },
     "output_type": "display_data"
    }
   ],
   "source": [
    "#Removing all classes but the 20 most populous.\n",
    "most_pop = list(df.groupby('topic')['topic'].agg('count').sort_values(ascending=False)[:20].index)\n",
    "df = df[df['topic'].isin(most_pop)]\n",
    "plt.figure(figsize=(9,9))\n",
    "df['topic'].value_counts().plot('bar')\n",
    "#So we have imbalanced classes, but not so much that we can't manage it.\n",
    "#A lot of these classes are super similar. I might need to combine them."
   ]
  },
  {
   "cell_type": "code",
   "execution_count": 5,
   "metadata": {},
   "outputs": [
    {
     "data": {
      "text/plain": [
       "6      word happy snow decide get bus dignity aside y...\n",
       "35                      mike quando la trovi una ragazza\n",
       "50     hamiltons o fun good time hamilton drink ticke...\n",
       "81     truly dramatic music death life outstanding co...\n",
       "87     eternal life jeff buckley eternal life trail g...\n",
       "115    yep planet common dirt need prove presence lif...\n",
       "118    byrning house bummer want tape tonight vcr wor...\n",
       "137    college learn big word talk real loud goddamn ...\n",
       "138    late get roughly 6 hour sleep night bed instea...\n",
       "150                                                     \n",
       "Name: form_str, dtype: object"
      ]
     },
     "execution_count": 5,
     "metadata": {},
     "output_type": "execute_result"
    }
   ],
   "source": [
    "tech = df[df['topic']=='Internet']\n",
    "tech.head(10)['form_str']"
   ]
  },
  {
   "cell_type": "markdown",
   "metadata": {},
   "source": [
    "# Machine Learning Pre-Processing"
   ]
  },
  {
   "cell_type": "code",
   "execution_count": 6,
   "metadata": {},
   "outputs": [],
   "source": [
    "from sklearn import preprocessing\n",
    "le = preprocessing.LabelEncoder()\n",
    "# Converting string labels into numbers.\n",
    "y=le.fit_transform(df['topic'])\n",
    "X = df['form_str']\n",
    "\n",
    "from sklearn.model_selection import train_test_split\n",
    "X_train, X_test, y_train, y_test = train_test_split(X,y)\n",
    "\n",
    "from sklearn.feature_extraction.text import CountVectorizer\n",
    "cv = CountVectorizer(lowercase=True, stop_words='english')\n",
    "X_train_cv = cv.fit_transform(X_train)\n",
    "X_test_cv = cv.transform(X_test)\n",
    "#Metrics I'm going to use\n",
    "from sklearn.metrics import f1_score, balanced_accuracy_score, accuracy_score, classification_report"
   ]
  },
  {
   "cell_type": "code",
   "execution_count": 7,
   "metadata": {},
   "outputs": [
    {
     "name": "stdout",
     "output_type": "stream",
     "text": [
      "              precision    recall  f1-score   support\n",
      "\n",
      "           0       0.54      0.35      0.42        20\n",
      "           1       0.00      0.00      0.00        16\n",
      "           2       0.22      0.54      0.31       112\n",
      "           3       0.20      0.06      0.09        17\n",
      "           4       0.17      0.05      0.08        20\n",
      "           5       0.18      0.17      0.17        75\n",
      "           6       0.00      0.00      0.00        24\n",
      "           7       0.19      0.25      0.22       123\n",
      "           8       0.08      0.02      0.04        45\n",
      "           9       0.10      0.07      0.08        15\n",
      "          10       0.00      0.00      0.00        25\n",
      "          11       0.13      0.08      0.10        53\n",
      "          12       0.00      0.00      0.00        40\n",
      "          13       0.00      0.00      0.00        21\n",
      "          14       0.50      0.33      0.40         6\n",
      "          15       0.20      0.10      0.13        50\n",
      "          16       0.00      0.00      0.00        31\n",
      "          17       0.23      0.20      0.21        15\n",
      "          18       0.00      0.00      0.00        33\n",
      "          19       0.28      0.42      0.33       143\n",
      "\n",
      "    accuracy                           0.21       884\n",
      "   macro avg       0.15      0.13      0.13       884\n",
      "weighted avg       0.17      0.21      0.17       884\n",
      "\n"
     ]
    }
   ],
   "source": [
    "from sklearn.naive_bayes import MultinomialNB\n",
    "clf = MultinomialNB(alpha=.01)\n",
    "clf = clf.fit(X_train_cv, y_train)\n",
    "y_preds=clf.predict(X_test_cv)\n",
    "print(classification_report(y_test, y_preds))"
   ]
  },
  {
   "cell_type": "code",
   "execution_count": 8,
   "metadata": {},
   "outputs": [
    {
     "data": {
      "text/plain": [
       "0.17194570135746606"
      ]
     },
     "execution_count": 8,
     "metadata": {},
     "output_type": "execute_result"
    }
   ],
   "source": [
    "from sklearn.ensemble import AdaBoostClassifier\n",
    "clf = AdaBoostClassifier()\n",
    "clf=clf.fit(X_train_cv, y_train)\n",
    "y_preds=clf.predict(X_test_cv)\n",
    "accuracy_score(y_test, y_preds)"
   ]
  },
  {
   "cell_type": "code",
   "execution_count": 9,
   "metadata": {},
   "outputs": [
    {
     "name": "stderr",
     "output_type": "stream",
     "text": [
      "/home/drew/anaconda3/lib/python3.7/site-packages/sklearn/ensemble/forest.py:245: FutureWarning: The default value of n_estimators will change from 10 in version 0.20 to 100 in 0.22.\n",
      "  \"10 in version 0.20 to 100 in 0.22.\", FutureWarning)\n"
     ]
    },
    {
     "data": {
      "text/plain": [
       "0.1436651583710407"
      ]
     },
     "execution_count": 9,
     "metadata": {},
     "output_type": "execute_result"
    }
   ],
   "source": [
    "from sklearn.ensemble import RandomForestClassifier\n",
    "clf = RandomForestClassifier()\n",
    "clf.fit(X_train_cv, y_train)\n",
    "y_preds=clf.predict(X_test_cv)\n",
    "accuracy_score(y_test, y_preds)"
   ]
  },
  {
   "cell_type": "code",
   "execution_count": 10,
   "metadata": {
    "scrolled": true
   },
   "outputs": [
    {
     "data": {
      "text/plain": [
       "0.19343891402714933"
      ]
     },
     "execution_count": 10,
     "metadata": {},
     "output_type": "execute_result"
    }
   ],
   "source": [
    "from xgboost import XGBClassifier\n",
    "clf = XGBClassifier()\n",
    "clf = clf.fit(X_train_cv, y_train)\n",
    "y_preds=clf.predict(X_test_cv)\n",
    "accuracy_score(y_test, y_preds)"
   ]
  },
  {
   "cell_type": "code",
   "execution_count": null,
   "metadata": {},
   "outputs": [],
   "source": []
  }
 ],
 "metadata": {
  "kernelspec": {
   "display_name": "Python 3",
   "language": "python",
   "name": "python3"
  },
  "language_info": {
   "codemirror_mode": {
    "name": "ipython",
    "version": 3
   },
   "file_extension": ".py",
   "mimetype": "text/x-python",
   "name": "python",
   "nbconvert_exporter": "python",
   "pygments_lexer": "ipython3",
   "version": "3.7.3"
  }
 },
 "nbformat": 4,
 "nbformat_minor": 2
}
