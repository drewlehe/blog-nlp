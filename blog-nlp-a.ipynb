{
 "cells": [
  {
   "cell_type": "code",
   "execution_count": 1,
   "metadata": {},
   "outputs": [],
   "source": [
    "import pandas as pd\n",
    "import numpy as np\n",
    "import seaborn as sns\n",
    "sns.set(style='darkgrid')"
   ]
  },
  {
   "cell_type": "code",
   "execution_count": 3,
   "metadata": {},
   "outputs": [],
   "source": [
    "df = pd.read_csv('blogtext.csv', parse_dates = ['date']).sample(12000)"
   ]
  },
  {
   "cell_type": "code",
   "execution_count": 4,
   "metadata": {},
   "outputs": [
    {
     "data": {
      "text/html": [
       "<div>\n",
       "<style scoped>\n",
       "    .dataframe tbody tr th:only-of-type {\n",
       "        vertical-align: middle;\n",
       "    }\n",
       "\n",
       "    .dataframe tbody tr th {\n",
       "        vertical-align: top;\n",
       "    }\n",
       "\n",
       "    .dataframe thead th {\n",
       "        text-align: right;\n",
       "    }\n",
       "</style>\n",
       "<table border=\"1\" class=\"dataframe\">\n",
       "  <thead>\n",
       "    <tr style=\"text-align: right;\">\n",
       "      <th></th>\n",
       "      <th>id</th>\n",
       "      <th>gender</th>\n",
       "      <th>age</th>\n",
       "      <th>topic</th>\n",
       "      <th>sign</th>\n",
       "      <th>date</th>\n",
       "      <th>text</th>\n",
       "    </tr>\n",
       "  </thead>\n",
       "  <tbody>\n",
       "    <tr>\n",
       "      <td>0</td>\n",
       "      <td>1944324</td>\n",
       "      <td>male</td>\n",
       "      <td>16</td>\n",
       "      <td>Student</td>\n",
       "      <td>Taurus</td>\n",
       "      <td>06,November,2003</td>\n",
       "      <td>that venting is fine. It was detailed i...</td>\n",
       "    </tr>\n",
       "    <tr>\n",
       "      <td>1</td>\n",
       "      <td>3862883</td>\n",
       "      <td>female</td>\n",
       "      <td>15</td>\n",
       "      <td>Student</td>\n",
       "      <td>Aries</td>\n",
       "      <td>16,July,2004</td>\n",
       "      <td>&amp;nbsp; &amp;nbsp;&amp;nbsp;&amp;nbsp;&amp;nbsp; The biggest...</td>\n",
       "    </tr>\n",
       "    <tr>\n",
       "      <td>2</td>\n",
       "      <td>3554150</td>\n",
       "      <td>male</td>\n",
       "      <td>23</td>\n",
       "      <td>indUnk</td>\n",
       "      <td>Libra</td>\n",
       "      <td>28,June,2004</td>\n",
       "      <td>Since my last entry, I've gai...</td>\n",
       "    </tr>\n",
       "    <tr>\n",
       "      <td>3</td>\n",
       "      <td>3824884</td>\n",
       "      <td>male</td>\n",
       "      <td>23</td>\n",
       "      <td>Law</td>\n",
       "      <td>Aries</td>\n",
       "      <td>02,July,2004</td>\n",
       "      <td>urlLink Slate contributor Steven L...</td>\n",
       "    </tr>\n",
       "    <tr>\n",
       "      <td>4</td>\n",
       "      <td>3568300</td>\n",
       "      <td>female</td>\n",
       "      <td>27</td>\n",
       "      <td>indUnk</td>\n",
       "      <td>Aquarius</td>\n",
       "      <td>05,July,2004</td>\n",
       "      <td>Today's Playlist:  Thelonious Mon...</td>\n",
       "    </tr>\n",
       "  </tbody>\n",
       "</table>\n",
       "</div>"
      ],
      "text/plain": [
       "        id  gender  age    topic      sign              date  \\\n",
       "0  1944324    male   16  Student    Taurus  06,November,2003   \n",
       "1  3862883  female   15  Student     Aries      16,July,2004   \n",
       "2  3554150    male   23   indUnk     Libra      28,June,2004   \n",
       "3  3824884    male   23      Law     Aries      02,July,2004   \n",
       "4  3568300  female   27   indUnk  Aquarius      05,July,2004   \n",
       "\n",
       "                                                text  \n",
       "0         that venting is fine. It was detailed i...  \n",
       "1     &nbsp; &nbsp;&nbsp;&nbsp;&nbsp; The biggest...  \n",
       "2                   Since my last entry, I've gai...  \n",
       "3              urlLink Slate contributor Steven L...  \n",
       "4               Today's Playlist:  Thelonious Mon...  "
      ]
     },
     "execution_count": 4,
     "metadata": {},
     "output_type": "execute_result"
    }
   ],
   "source": [
    "df.reset_index(drop=True, inplace=True)\n",
    "df.head()"
   ]
  },
  {
   "cell_type": "code",
   "execution_count": 8,
   "metadata": {},
   "outputs": [
    {
     "data": {
      "text/plain": [
       "0    [that, vent, be, fine, it, be, detail, informa...\n",
       "1    [nbsp, nbspnbspnbspnbsp, the, big, similarity,...\n",
       "2    [since, my, last, entry, PRON, have, gain, a, ...\n",
       "3    [urllink, slate, contributor, steven, landsbur...\n",
       "4    [today, have, playlist, thelonious, monk, alon...\n",
       "Name: formatted, dtype: object"
      ]
     },
     "execution_count": 8,
     "metadata": {},
     "output_type": "execute_result"
    }
   ],
   "source": [
    "import spacy\n",
    "import re\n",
    "\n",
    "nlp = spacy.load('en_core_web_sm')\n",
    "df['text']=df['text'].astype(str)\n",
    "#Creating the tokens, which are an important spaCy datatype.\n",
    "df['tokens'] = df['text'].apply(lambda x: nlp.tokenizer(x.lower()))\n",
    "\n",
    "#Turning the tokens to Python datatypes and cleaning, for non-spaCy work.\n",
    "def clean(lst):\n",
    "#     lst = [token.lemma_ for token in lst if str(token.lemma_) not in spacy_stops]\n",
    "    lst = [token.lemma_ for token in lst]\n",
    "    lst = [re.sub(r'[\\W\\d]', '', string) for string in lst]\n",
    "    while '' in lst:\n",
    "        lst.remove('')\n",
    "    return lst\n",
    "df['formatted'] = df['tokens'].map(lambda x: clean(x))\n",
    "#Creating a single-string version of the cleaned texts, for tools that require it.\n",
    "df['form_str'] = df['formatted'].map(lambda x: ' '.join(x))\n",
    "df['formatted'].head()"
   ]
  },
  {
   "cell_type": "code",
   "execution_count": null,
   "metadata": {},
   "outputs": [],
   "source": [
    "#Make a column which is the length of the post:\n"
   ]
  },
  {
   "cell_type": "code",
   "execution_count": 24,
   "metadata": {},
   "outputs": [],
   "source": [
    "#Common words per label- do males use certain words more than females?\n",
    "df_male = df[df['gender']=='male']\n",
    "df_female = df[df['gender']=='female']\n",
    "def avg_words(doclist):\n",
    "    df = doclist.reset_index(drop=False)\n",
    "    total_words = 0\n",
    "    for doc in range(len(df)):\n",
    "        total_words += len(df['text'][doc])\n",
    "    return total_words / len(df)"
   ]
  },
  {
   "cell_type": "code",
   "execution_count": 26,
   "metadata": {},
   "outputs": [
    {
     "name": "stdout",
     "output_type": "stream",
     "text": [
      "Average words in female posts: 1217.3386662175817\n",
      "Average words in male posts: 1098.0734081161334\n"
     ]
    }
   ],
   "source": [
    "print('Average words in female posts: {}'.format(avg_words(df_female)))\n",
    "print('Average words in male posts: {}'.format(avg_words(df_male)))"
   ]
  },
  {
   "cell_type": "code",
   "execution_count": null,
   "metadata": {},
   "outputs": [],
   "source": [
    "#Make a histogram of "
   ]
  },
  {
   "cell_type": "code",
   "execution_count": 11,
   "metadata": {},
   "outputs": [],
   "source": [
    "import gensim\n",
    "doc_clean = [doc.split() for doc in df['form_str']]\n",
    "#Build Bigram and Trigram models\n",
    "bigram =gensim.models.Phrases(doc_clean, min_count = 5, threshold = 100)\n",
    "trigram =gensim.models.Phrases(bigram[doc_clean], min_count = 5, threshold = 100)"
   ]
  },
  {
   "cell_type": "code",
   "execution_count": 13,
   "metadata": {},
   "outputs": [],
   "source": [
    "#Club sentences (aka stemming)\n",
    "bigram_mod = gensim.models.phrases.Phraser(bigram)\n",
    "trigram_mod = gensim.models.phrases.Phraser(trigram)\n",
    "def make_bigrams(texts):\n",
    "    return [bigram_mod[doc] for doc in texts]\n",
    "def make_trigrams(texts):\n",
    "    return [trigram_mod[bigram_mod[doc]] for doc in texts]\n",
    "doc_trigram = make_trigrams(doc_clean)\n",
    "#Create dictionary (word to number mapping)\n",
    "dct = gensim.corpora.Dictionary(doc_trigram)\n",
    "#Clean out noise\n",
    "dct.filter_extremes(no_below=5, no_above=0.6666, keep_n=90000)\n",
    "doc_term_matrix = [dct.doc2bow(doc) for doc in doc_trigram]"
   ]
  },
  {
   "cell_type": "code",
   "execution_count": 18,
   "metadata": {},
   "outputs": [
    {
     "name": "stdout",
     "output_type": "stream",
     "text": [
      "Here's what the topics are: \n"
     ]
    },
    {
     "data": {
      "text/plain": [
       "[(0,\n",
       "  '0.005*\"PRON\" + 0.004*\"that\" + 0.004*\"he\" + 0.004*\"my\" + 0.004*\"not\" + 0.004*\"it\" + 0.004*\"do\" + 0.004*\"you\" + 0.004*\"we\" + 0.004*\"me\"'),\n",
       " (1,\n",
       "  '0.008*\"urllink\" + 0.005*\"you\" + 0.005*\"PRON\" + 0.004*\"my\" + 0.004*\"that\" + 0.004*\"me\" + 0.004*\"not\" + 0.004*\"it\" + 0.003*\"he\" + 0.003*\"do\"'),\n",
       " (2,\n",
       "  '0.005*\"PRON\" + 0.004*\"you\" + 0.004*\"my\" + 0.004*\"urllink\" + 0.004*\"that\" + 0.004*\"it\" + 0.004*\"go\" + 0.003*\"not\" + 0.003*\"do\" + 0.003*\"he\"'),\n",
       " (3,\n",
       "  '0.006*\"urllink\" + 0.005*\"PRON\" + 0.004*\"you\" + 0.004*\"that\" + 0.004*\"not\" + 0.004*\"my\" + 0.003*\"it\" + 0.003*\"do\" + 0.003*\"in\" + 0.003*\"me\"'),\n",
       " (4,\n",
       "  '0.005*\"PRON\" + 0.005*\"you\" + 0.004*\"my\" + 0.004*\"that\" + 0.004*\"it\" + 0.004*\"do\" + 0.004*\"not\" + 0.004*\"we\" + 0.004*\"me\" + 0.004*\"so\"'),\n",
       " (5,\n",
       "  '0.007*\"urllink\" + 0.004*\"PRON\" + 0.004*\"my\" + 0.004*\"you\" + 0.004*\"we\" + 0.004*\"that\" + 0.004*\"it\" + 0.003*\"do\" + 0.003*\"not\" + 0.003*\"in\"')]"
      ]
     },
     "execution_count": 18,
     "metadata": {},
     "output_type": "execute_result"
    }
   ],
   "source": [
    "from gensim.models.tfidfmodel import TfidfModel\n",
    "#Create tf-idf vectors\n",
    "tfidf = TfidfModel(doc_term_matrix)\n",
    "vectors = tfidf[doc_term_matrix]\n",
    "from gensim.models.nmf import Nmf\n",
    "nmf_model = Nmf(vectors, id2word = dct, num_topics=6, kappa=0.08, eval_every=500, normalize=True, passes=10, random_state=42)\n",
    "\n",
    "print(\"Here's what the topics are: \")\n",
    "nmf_model.print_topics()"
   ]
  },
  {
   "cell_type": "code",
   "execution_count": null,
   "metadata": {},
   "outputs": [],
   "source": []
  }
 ],
 "metadata": {
  "kernelspec": {
   "display_name": "Python 3",
   "language": "python",
   "name": "python3"
  },
  "language_info": {
   "codemirror_mode": {
    "name": "ipython",
    "version": 3
   },
   "file_extension": ".py",
   "mimetype": "text/x-python",
   "name": "python",
   "nbconvert_exporter": "python",
   "pygments_lexer": "ipython3",
   "version": "3.7.4"
  }
 },
 "nbformat": 4,
 "nbformat_minor": 2
}
