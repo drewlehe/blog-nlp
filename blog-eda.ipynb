{
 "cells": [
  {
   "cell_type": "code",
   "execution_count": 1,
   "metadata": {},
   "outputs": [],
   "source": [
    "import pandas as pd\n",
    "import numpy as np\n",
    "import seaborn as sns\n",
    "sns.set(style='darkgrid')"
   ]
  },
  {
   "cell_type": "code",
   "execution_count": 3,
   "metadata": {},
   "outputs": [],
   "source": [
    "df = pd.read_csv('blogtext.csv', parse_dates = ['date']).sample(12000)"
   ]
  },
  {
   "cell_type": "code",
   "execution_count": 4,
   "metadata": {},
   "outputs": [
    {
     "data": {
      "text/html": [
       "<div>\n",
       "<style scoped>\n",
       "    .dataframe tbody tr th:only-of-type {\n",
       "        vertical-align: middle;\n",
       "    }\n",
       "\n",
       "    .dataframe tbody tr th {\n",
       "        vertical-align: top;\n",
       "    }\n",
       "\n",
       "    .dataframe thead th {\n",
       "        text-align: right;\n",
       "    }\n",
       "</style>\n",
       "<table border=\"1\" class=\"dataframe\">\n",
       "  <thead>\n",
       "    <tr style=\"text-align: right;\">\n",
       "      <th></th>\n",
       "      <th>id</th>\n",
       "      <th>gender</th>\n",
       "      <th>age</th>\n",
       "      <th>topic</th>\n",
       "      <th>sign</th>\n",
       "      <th>date</th>\n",
       "      <th>text</th>\n",
       "    </tr>\n",
       "  </thead>\n",
       "  <tbody>\n",
       "    <tr>\n",
       "      <td>0</td>\n",
       "      <td>1944324</td>\n",
       "      <td>male</td>\n",
       "      <td>16</td>\n",
       "      <td>Student</td>\n",
       "      <td>Taurus</td>\n",
       "      <td>06,November,2003</td>\n",
       "      <td>that venting is fine. It was detailed i...</td>\n",
       "    </tr>\n",
       "    <tr>\n",
       "      <td>1</td>\n",
       "      <td>3862883</td>\n",
       "      <td>female</td>\n",
       "      <td>15</td>\n",
       "      <td>Student</td>\n",
       "      <td>Aries</td>\n",
       "      <td>16,July,2004</td>\n",
       "      <td>&amp;nbsp; &amp;nbsp;&amp;nbsp;&amp;nbsp;&amp;nbsp; The biggest...</td>\n",
       "    </tr>\n",
       "    <tr>\n",
       "      <td>2</td>\n",
       "      <td>3554150</td>\n",
       "      <td>male</td>\n",
       "      <td>23</td>\n",
       "      <td>indUnk</td>\n",
       "      <td>Libra</td>\n",
       "      <td>28,June,2004</td>\n",
       "      <td>Since my last entry, I've gai...</td>\n",
       "    </tr>\n",
       "    <tr>\n",
       "      <td>3</td>\n",
       "      <td>3824884</td>\n",
       "      <td>male</td>\n",
       "      <td>23</td>\n",
       "      <td>Law</td>\n",
       "      <td>Aries</td>\n",
       "      <td>02,July,2004</td>\n",
       "      <td>urlLink Slate contributor Steven L...</td>\n",
       "    </tr>\n",
       "    <tr>\n",
       "      <td>4</td>\n",
       "      <td>3568300</td>\n",
       "      <td>female</td>\n",
       "      <td>27</td>\n",
       "      <td>indUnk</td>\n",
       "      <td>Aquarius</td>\n",
       "      <td>05,July,2004</td>\n",
       "      <td>Today's Playlist:  Thelonious Mon...</td>\n",
       "    </tr>\n",
       "  </tbody>\n",
       "</table>\n",
       "</div>"
      ],
      "text/plain": [
       "        id  gender  age    topic      sign              date  \\\n",
       "0  1944324    male   16  Student    Taurus  06,November,2003   \n",
       "1  3862883  female   15  Student     Aries      16,July,2004   \n",
       "2  3554150    male   23   indUnk     Libra      28,June,2004   \n",
       "3  3824884    male   23      Law     Aries      02,July,2004   \n",
       "4  3568300  female   27   indUnk  Aquarius      05,July,2004   \n",
       "\n",
       "                                                text  \n",
       "0         that venting is fine. It was detailed i...  \n",
       "1     &nbsp; &nbsp;&nbsp;&nbsp;&nbsp; The biggest...  \n",
       "2                   Since my last entry, I've gai...  \n",
       "3              urlLink Slate contributor Steven L...  \n",
       "4               Today's Playlist:  Thelonious Mon...  "
      ]
     },
     "execution_count": 4,
     "metadata": {},
     "output_type": "execute_result"
    }
   ],
   "source": [
    "df.reset_index(drop=True, inplace=True)\n",
    "df.head()"
   ]
  },
  {
   "cell_type": "code",
   "execution_count": 68,
   "metadata": {},
   "outputs": [
    {
     "data": {
      "text/plain": [
       "0    [vent, fine, detail, information, love, life, ...\n",
       "1    [nbspnbspnbspnbsp, big, similarity, movie, boo...\n",
       "2    [entry, PRON, gain, highlight, heartache, bad,...\n",
       "3    [slate, contributor, steven, landsburg, good, ...\n",
       "4    [today, playlist, thelonious, monk, san, franc...\n",
       "Name: formatted, dtype: object"
      ]
     },
     "execution_count": 68,
     "metadata": {},
     "output_type": "execute_result"
    }
   ],
   "source": [
    "import spacy\n",
    "import re\n",
    "\n",
    "nlp = spacy.load('en_core_web_sm')\n",
    "# df['text']=df['text'].astype(str)\n",
    "from gensim.parsing.preprocessing import remove_stopwords\n",
    "df['tokenstr'] = df['text'].apply(lambda x: remove_stopwords(x))\n",
    "\n",
    "#Creating the tokens, which are an important spaCy datatype.\n",
    "df['tokens'] = df['tokenstr'].apply(lambda x: nlp.tokenizer(x.lower()))\n",
    "spacy_stops = list([spacy.lang.en.stop_words.STOP_WORDS][0]) + ['nbsp', 'urllink', 'PRON']\n",
    "#Turning the tokens to Python datatypes and cleaning, for non-spaCy work.\n",
    "def clean(lst):\n",
    "    lst = [token.lemma_ for token in lst if str(token.lemma_) not in spacy_stops]\n",
    "    lst = [re.sub(r'[\\W\\d]', '', string) for string in lst]\n",
    "    while '' in lst:\n",
    "        lst.remove('')\n",
    "    return lst\n",
    "df['formatted'] = df['tokens'].map(lambda x: clean(x))\n",
    "#Creating a single-string version of the cleaned texts, for tools that require it.\n",
    "df['form_str'] = df['formatted'].map(lambda x: ' '.join(x))\n",
    "df['formatted'].head()"
   ]
  },
  {
   "cell_type": "code",
   "execution_count": 42,
   "metadata": {},
   "outputs": [
    {
     "data": {
      "text/plain": [
       "0         182\n",
       "1         609\n",
       "2        1981\n",
       "3        3922\n",
       "4         551\n",
       "         ... \n",
       "11995      94\n",
       "11996    1377\n",
       "11997      67\n",
       "11998    2304\n",
       "11999      65\n",
       "Name: postlength, Length: 12000, dtype: int64"
      ]
     },
     "execution_count": 42,
     "metadata": {},
     "output_type": "execute_result"
    }
   ],
   "source": [
    "#Make a column which is the length of the post:\n",
    "df['postlength'] = df['text'].map(lambda x: len(x))\n",
    "df['postlength']"
   ]
  },
  {
   "cell_type": "code",
   "execution_count": 70,
   "metadata": {},
   "outputs": [
    {
     "data": {
      "text/plain": [
       "0        [vent, fine, detail, information, love, life, ...\n",
       "1        [nbspnbspnbspnbsp, big, similarity, movie, boo...\n",
       "2        [entry, PRON, gain, highlight, heartache, bad,...\n",
       "3        [slate, contributor, steven, landsburg, good, ...\n",
       "4        [today, playlist, thelonious, monk, san, franc...\n",
       "                               ...                        \n",
       "11995          [bunny, PRON, wear, shirt, anime, con, arv]\n",
       "11996    [announce, officially, feel, thank, joe, peanu...\n",
       "11997      [saiful, nizam, birthday, today, fall, equinox]\n",
       "11998    [doubt, attack, america, sept, lynchpin, momen...\n",
       "11999                         [disorder, damo, PRON, edit]\n",
       "Name: formatted, Length: 12000, dtype: object"
      ]
     },
     "execution_count": 70,
     "metadata": {},
     "output_type": "execute_result"
    }
   ],
   "source": [
    "df.formatted"
   ]
  },
  {
   "cell_type": "code",
   "execution_count": 43,
   "metadata": {},
   "outputs": [
    {
     "name": "stdout",
     "output_type": "stream",
     "text": [
      "Average words in female posts: 1217.3386662175817\n",
      "Average words in male posts: 1098.0734081161334\n"
     ]
    }
   ],
   "source": [
    "#Common words per label- do males use certain words more than females?\n",
    "df_male = df[df['gender']=='male']\n",
    "df_female = df[df['gender']=='female']\n",
    "def avg_words(doclist):\n",
    "    df = doclist.reset_index(drop=False)\n",
    "    total_words = 0\n",
    "    for doc in range(len(df)):\n",
    "        total_words += len(df['text'][doc])\n",
    "    return total_words / len(df)\n",
    "print('Average words in female posts: {}'.format(avg_words(df_female)))\n",
    "print('Average words in male posts: {}'.format(avg_words(df_male)))"
   ]
  },
  {
   "cell_type": "code",
   "execution_count": 44,
   "metadata": {},
   "outputs": [
    {
     "data": {
      "text/plain": [
       "<matplotlib.axes._subplots.AxesSubplot at 0x2aca1627288>"
      ]
     },
     "execution_count": 44,
     "metadata": {},
     "output_type": "execute_result"
    },
    {
     "data": {
      "image/png": "[encoded data removed]",
      "text/plain": [
       "<Figure size 432x288 with 1 Axes>"
      ]
     },
     "metadata": {
      "needs_background": "light"
     },
     "output_type": "display_data"
    }
   ],
   "source": [
    "#Make a histogram of post lengths by gender:\n",
    "sns.distplot(df_male['postlength'])"
   ]
  },
  {
   "cell_type": "code",
   "execution_count": 45,
   "metadata": {},
   "outputs": [
    {
     "data": {
      "text/plain": [
       "<matplotlib.axes._subplots.AxesSubplot at 0x2ac5eb83bc8>"
      ]
     },
     "execution_count": 45,
     "metadata": {},
     "output_type": "execute_result"
    },
    {
     "data": {
      "image/png": "[encoded data removed]",
      "text/plain": [
       "<Figure size 432x288 with 1 Axes>"
      ]
     },
     "metadata": {
      "needs_background": "light"
     },
     "output_type": "display_data"
    }
   ],
   "source": [
    "sns.distplot(df_female['postlength'])"
   ]
  },
  {
   "cell_type": "code",
   "execution_count": 71,
   "metadata": {},
   "outputs": [
    {
     "name": "stdout",
     "output_type": "stream",
     "text": [
      "Most common male words: ['PRON', 'good', 'like', 'think', 'time', 'know', 'day', 'people', 'thing', 'want', 'come', 'work', 'little', 'look', 'feel', 'way', 'year', 'new', 'today', 'right', 'find', 'love', 'need', 'life', 'tell', 'start', 'try', 'use', 'night', 'leave', 'friend', 'play', 'long', 'man', 'read', 'great', 'yes', 'talk', 'week', 'post', 'mean', 'home', 'guy', 'let', 'write', 'end', 'live', 'school', '_', 'old', 'late', 'lot', 'world', 'watch', 'god', 'place', 'maybe', 'sure', 'ask', 'pretty', 'oh', 'blog', 'hour', 'big', 'okay', 'actually', 'happen', 'movie', 'run', 'game', 'help', 'hope', 'change', 'bad', 'stuff', 'point', 'house', 'fun', 'head', 'fuck', 'turn', 'doe', 'meet', 'hear', 'interest', 'guess', 'away', 'stop', 's', 'girl', 'probably', 'wrong', 'word', 'nice', 'hard', 'walk', 'hand', 'cool', 'far', 'mind']\n",
      "\n",
      " \n",
      "\n",
      "Most common female words: ['PRON', 'like', 'good', 'know', 'think', 'time', 'day', 'come', 'thing', 'want', 'love', 'feel', 'people', 'little', 'work', 'look', 'tell', 'today', 'way', 'friend', 'great', 'life', 'find', 'need', 'sir', 'right', 'night', 'year', 'leave', 'new', 'start', 'try', 'talk', 'yes', 'home', 'long', 'let', 'oh', 'mean', 'king', 'read', 'week', 'man', 'live', 'use', 'place', 'write', 'school', 'watch', 'okay', 'lot', 'play', 'guy', 'end', 'maybe', 'ask', 'knight', 'fun', 'old', 'world', 'sit', 'hope', 'away', 'late', 'house', 'bad', 'happen', 'hour', 'thou', 'sure', 'head', 'walk', 's', 'actually', 'guess', 'pretty', 'lady', 'post', 'hear', 'god', 'nice', 'run', 'happy', 'morning', 'girl', 'wait', 'hand', 'big', 'eat', 'help', 'u', 'book', 'hard', 'stuff', 'meet', 'sleep', 'turn', 'word', 'arthur', 'movie']\n"
     ]
    }
   ],
   "source": [
    "#Get the most common words\n",
    "from gensim.models import Word2Vec\n",
    "w2vm_male = Word2Vec(df_male['formatted'], size=100, window=5, min_count=1, workers=8)\n",
    "print('Most common male words: {}'.format(w2vm_male.wv.index2entity[:100]))\n",
    "w2vm_female = Word2Vec(df_female['formatted'], size=100, window=5, min_count=1, workers=8)\n",
    "print('\\n \\n')\n",
    "print('Most common female words: {}'.format(w2vm_female.wv.index2entity[:100]))"
   ]
  },
  {
   "cell_type": "code",
   "execution_count": 11,
   "metadata": {},
   "outputs": [],
   "source": [
    "import gensim\n",
    "doc_clean = [doc.split() for doc in df['form_str']]\n",
    "#Build Bigram and Trigram models\n",
    "bigram =gensim.models.Phrases(doc_clean, min_count = 5, threshold = 100)\n",
    "trigram =gensim.models.Phrases(bigram[doc_clean], min_count = 5, threshold = 100)"
   ]
  },
  {
   "cell_type": "code",
   "execution_count": 13,
   "metadata": {},
   "outputs": [],
   "source": [
    "#Club sentences (aka stemming)\n",
    "bigram_mod = gensim.models.phrases.Phraser(bigram)\n",
    "trigram_mod = gensim.models.phrases.Phraser(trigram)\n",
    "def make_bigrams(texts):\n",
    "    return [bigram_mod[doc] for doc in texts]\n",
    "def make_trigrams(texts):\n",
    "    return [trigram_mod[bigram_mod[doc]] for doc in texts]\n",
    "doc_trigram = make_trigrams(doc_clean)\n",
    "#Create dictionary (word to number mapping)\n",
    "dct = gensim.corpora.Dictionary(doc_trigram)\n",
    "#Clean out noise\n",
    "dct.filter_extremes(no_below=5, no_above=0.6666, keep_n=90000)\n",
    "doc_term_matrix = [dct.doc2bow(doc) for doc in doc_trigram]"
   ]
  },
  {
   "cell_type": "code",
   "execution_count": 18,
   "metadata": {},
   "outputs": [
    {
     "name": "stdout",
     "output_type": "stream",
     "text": [
      "Here's what the topics are: \n"
     ]
    },
    {
     "data": {
      "text/plain": [
       "[(0,\n",
       "  '0.005*\"PRON\" + 0.004*\"that\" + 0.004*\"he\" + 0.004*\"my\" + 0.004*\"not\" + 0.004*\"it\" + 0.004*\"do\" + 0.004*\"you\" + 0.004*\"we\" + 0.004*\"me\"'),\n",
       " (1,\n",
       "  '0.008*\"urllink\" + 0.005*\"you\" + 0.005*\"PRON\" + 0.004*\"my\" + 0.004*\"that\" + 0.004*\"me\" + 0.004*\"not\" + 0.004*\"it\" + 0.003*\"he\" + 0.003*\"do\"'),\n",
       " (2,\n",
       "  '0.005*\"PRON\" + 0.004*\"you\" + 0.004*\"my\" + 0.004*\"urllink\" + 0.004*\"that\" + 0.004*\"it\" + 0.004*\"go\" + 0.003*\"not\" + 0.003*\"do\" + 0.003*\"he\"'),\n",
       " (3,\n",
       "  '0.006*\"urllink\" + 0.005*\"PRON\" + 0.004*\"you\" + 0.004*\"that\" + 0.004*\"not\" + 0.004*\"my\" + 0.003*\"it\" + 0.003*\"do\" + 0.003*\"in\" + 0.003*\"me\"'),\n",
       " (4,\n",
       "  '0.005*\"PRON\" + 0.005*\"you\" + 0.004*\"my\" + 0.004*\"that\" + 0.004*\"it\" + 0.004*\"do\" + 0.004*\"not\" + 0.004*\"we\" + 0.004*\"me\" + 0.004*\"so\"'),\n",
       " (5,\n",
       "  '0.007*\"urllink\" + 0.004*\"PRON\" + 0.004*\"my\" + 0.004*\"you\" + 0.004*\"we\" + 0.004*\"that\" + 0.004*\"it\" + 0.003*\"do\" + 0.003*\"not\" + 0.003*\"in\"')]"
      ]
     },
     "execution_count": 18,
     "metadata": {},
     "output_type": "execute_result"
    }
   ],
   "source": [
    "from gensim.models.tfidfmodel import TfidfModel\n",
    "#Create tf-idf vectors\n",
    "tfidf = TfidfModel(doc_term_matrix)\n",
    "vectors = tfidf[doc_term_matrix]\n",
    "from gensim.models.nmf import Nmf\n",
    "nmf_model = Nmf(vectors, id2word = dct, num_topics=6, kappa=0.08, eval_every=500, normalize=True, passes=10, random_state=42)\n",
    "\n",
    "print(\"Here's what the topics are: \")\n",
    "nmf_model.print_topics()"
   ]
  },
  {
   "cell_type": "code",
   "execution_count": 60,
   "metadata": {},
   "outputs": [
    {
     "data": {
      "text/plain": [
       "{\"'d\",\n",
       " \"'ll\",\n",
       " \"'m\",\n",
       " \"'re\",\n",
       " \"'s\",\n",
       " \"'ve\",\n",
       " 'a',\n",
       " 'about',\n",
       " 'above',\n",
       " 'across',\n",
       " 'after',\n",
       " 'afterwards',\n",
       " 'again',\n",
       " 'against',\n",
       " 'all',\n",
       " 'almost',\n",
       " 'alone',\n",
       " 'along',\n",
       " 'already',\n",
       " 'also',\n",
       " 'although',\n",
       " 'always',\n",
       " 'am',\n",
       " 'among',\n",
       " 'amongst',\n",
       " 'amount',\n",
       " 'an',\n",
       " 'and',\n",
       " 'another',\n",
       " 'any',\n",
       " 'anyhow',\n",
       " 'anyone',\n",
       " 'anything',\n",
       " 'anyway',\n",
       " 'anywhere',\n",
       " 'are',\n",
       " 'around',\n",
       " 'as',\n",
       " 'at',\n",
       " 'back',\n",
       " 'be',\n",
       " 'became',\n",
       " 'because',\n",
       " 'become',\n",
       " 'becomes',\n",
       " 'becoming',\n",
       " 'been',\n",
       " 'before',\n",
       " 'beforehand',\n",
       " 'behind',\n",
       " 'being',\n",
       " 'below',\n",
       " 'beside',\n",
       " 'besides',\n",
       " 'between',\n",
       " 'beyond',\n",
       " 'both',\n",
       " 'bottom',\n",
       " 'but',\n",
       " 'by',\n",
       " 'ca',\n",
       " 'call',\n",
       " 'can',\n",
       " 'cannot',\n",
       " 'could',\n",
       " 'did',\n",
       " 'do',\n",
       " 'does',\n",
       " 'doing',\n",
       " 'done',\n",
       " 'down',\n",
       " 'due',\n",
       " 'during',\n",
       " 'each',\n",
       " 'eight',\n",
       " 'either',\n",
       " 'eleven',\n",
       " 'else',\n",
       " 'elsewhere',\n",
       " 'empty',\n",
       " 'enough',\n",
       " 'even',\n",
       " 'ever',\n",
       " 'every',\n",
       " 'everyone',\n",
       " 'everything',\n",
       " 'everywhere',\n",
       " 'except',\n",
       " 'few',\n",
       " 'fifteen',\n",
       " 'fifty',\n",
       " 'first',\n",
       " 'five',\n",
       " 'for',\n",
       " 'former',\n",
       " 'formerly',\n",
       " 'forty',\n",
       " 'four',\n",
       " 'from',\n",
       " 'front',\n",
       " 'full',\n",
       " 'further',\n",
       " 'get',\n",
       " 'give',\n",
       " 'go',\n",
       " 'had',\n",
       " 'has',\n",
       " 'have',\n",
       " 'he',\n",
       " 'hence',\n",
       " 'her',\n",
       " 'here',\n",
       " 'hereafter',\n",
       " 'hereby',\n",
       " 'herein',\n",
       " 'hereupon',\n",
       " 'hers',\n",
       " 'herself',\n",
       " 'him',\n",
       " 'himself',\n",
       " 'his',\n",
       " 'how',\n",
       " 'however',\n",
       " 'hundred',\n",
       " 'i',\n",
       " 'if',\n",
       " 'in',\n",
       " 'indeed',\n",
       " 'into',\n",
       " 'is',\n",
       " 'it',\n",
       " 'its',\n",
       " 'itself',\n",
       " 'just',\n",
       " 'keep',\n",
       " 'last',\n",
       " 'latter',\n",
       " 'latterly',\n",
       " 'least',\n",
       " 'less',\n",
       " 'made',\n",
       " 'make',\n",
       " 'many',\n",
       " 'may',\n",
       " 'me',\n",
       " 'meanwhile',\n",
       " 'might',\n",
       " 'mine',\n",
       " 'more',\n",
       " 'moreover',\n",
       " 'most',\n",
       " 'mostly',\n",
       " 'move',\n",
       " 'much',\n",
       " 'must',\n",
       " 'my',\n",
       " 'myself',\n",
       " \"n't\",\n",
       " 'name',\n",
       " 'namely',\n",
       " 'neither',\n",
       " 'never',\n",
       " 'nevertheless',\n",
       " 'next',\n",
       " 'nine',\n",
       " 'no',\n",
       " 'nobody',\n",
       " 'none',\n",
       " 'noone',\n",
       " 'nor',\n",
       " 'not',\n",
       " 'nothing',\n",
       " 'now',\n",
       " 'nowhere',\n",
       " 'n‘t',\n",
       " 'n’t',\n",
       " 'of',\n",
       " 'off',\n",
       " 'often',\n",
       " 'on',\n",
       " 'once',\n",
       " 'one',\n",
       " 'only',\n",
       " 'onto',\n",
       " 'or',\n",
       " 'other',\n",
       " 'others',\n",
       " 'otherwise',\n",
       " 'our',\n",
       " 'ours',\n",
       " 'ourselves',\n",
       " 'out',\n",
       " 'over',\n",
       " 'own',\n",
       " 'part',\n",
       " 'per',\n",
       " 'perhaps',\n",
       " 'please',\n",
       " 'put',\n",
       " 'quite',\n",
       " 'rather',\n",
       " 're',\n",
       " 'really',\n",
       " 'regarding',\n",
       " 'same',\n",
       " 'say',\n",
       " 'see',\n",
       " 'seem',\n",
       " 'seemed',\n",
       " 'seeming',\n",
       " 'seems',\n",
       " 'serious',\n",
       " 'several',\n",
       " 'she',\n",
       " 'should',\n",
       " 'show',\n",
       " 'side',\n",
       " 'since',\n",
       " 'six',\n",
       " 'sixty',\n",
       " 'so',\n",
       " 'some',\n",
       " 'somehow',\n",
       " 'someone',\n",
       " 'something',\n",
       " 'sometime',\n",
       " 'sometimes',\n",
       " 'somewhere',\n",
       " 'still',\n",
       " 'such',\n",
       " 'take',\n",
       " 'ten',\n",
       " 'than',\n",
       " 'that',\n",
       " 'the',\n",
       " 'their',\n",
       " 'them',\n",
       " 'themselves',\n",
       " 'then',\n",
       " 'thence',\n",
       " 'there',\n",
       " 'thereafter',\n",
       " 'thereby',\n",
       " 'therefore',\n",
       " 'therein',\n",
       " 'thereupon',\n",
       " 'these',\n",
       " 'they',\n",
       " 'third',\n",
       " 'this',\n",
       " 'those',\n",
       " 'though',\n",
       " 'three',\n",
       " 'through',\n",
       " 'throughout',\n",
       " 'thru',\n",
       " 'thus',\n",
       " 'to',\n",
       " 'together',\n",
       " 'too',\n",
       " 'top',\n",
       " 'toward',\n",
       " 'towards',\n",
       " 'twelve',\n",
       " 'twenty',\n",
       " 'two',\n",
       " 'under',\n",
       " 'unless',\n",
       " 'until',\n",
       " 'up',\n",
       " 'upon',\n",
       " 'us',\n",
       " 'used',\n",
       " 'using',\n",
       " 'various',\n",
       " 'very',\n",
       " 'via',\n",
       " 'was',\n",
       " 'we',\n",
       " 'well',\n",
       " 'were',\n",
       " 'what',\n",
       " 'whatever',\n",
       " 'when',\n",
       " 'whence',\n",
       " 'whenever',\n",
       " 'where',\n",
       " 'whereafter',\n",
       " 'whereas',\n",
       " 'whereby',\n",
       " 'wherein',\n",
       " 'whereupon',\n",
       " 'wherever',\n",
       " 'whether',\n",
       " 'which',\n",
       " 'while',\n",
       " 'whither',\n",
       " 'who',\n",
       " 'whoever',\n",
       " 'whole',\n",
       " 'whom',\n",
       " 'whose',\n",
       " 'why',\n",
       " 'will',\n",
       " 'with',\n",
       " 'within',\n",
       " 'without',\n",
       " 'would',\n",
       " 'yet',\n",
       " 'you',\n",
       " 'your',\n",
       " 'yours',\n",
       " 'yourself',\n",
       " 'yourselves',\n",
       " '‘d',\n",
       " '‘ll',\n",
       " '‘m',\n",
       " '‘re',\n",
       " '‘s',\n",
       " '‘ve',\n",
       " '’d',\n",
       " '’ll',\n",
       " '’m',\n",
       " '’re',\n",
       " '’s',\n",
       " '’ve'}"
      ]
     },
     "execution_count": 60,
     "metadata": {},
     "output_type": "execute_result"
    }
   ],
   "source": [
    "[spacy.lang.en.stop_words.STOP_WORDS][0]"
   ]
  },
  {
   "cell_type": "code",
   "execution_count": 67,
   "metadata": {},
   "outputs": [],
   "source": [
    "from gensim.parsing.preprocessing import remove_stopwords\n",
    "df['tokenstr'] = df['text'].apply(lambda x: remove_stopwords(x))"
   ]
  },
  {
   "cell_type": "code",
   "execution_count": 72,
   "metadata": {},
   "outputs": [
    {
     "data": {
      "text/plain": [
       "0        [vent, fine, detail, information, love, life, ...\n",
       "1        [nbspnbspnbspnbsp, big, similarity, movie, boo...\n",
       "2        [entry, PRON, gain, highlight, heartache, bad,...\n",
       "3        [slate, contributor, steven, landsburg, good, ...\n",
       "4        [today, playlist, thelonious, monk, san, franc...\n",
       "                               ...                        \n",
       "11995          [bunny, PRON, wear, shirt, anime, con, arv]\n",
       "11996    [announce, officially, feel, thank, joe, peanu...\n",
       "11997      [saiful, nizam, birthday, today, fall, equinox]\n",
       "11998    [doubt, attack, america, sept, lynchpin, momen...\n",
       "11999                         [disorder, damo, PRON, edit]\n",
       "Name: formatted, Length: 12000, dtype: object"
      ]
     },
     "execution_count": 72,
     "metadata": {},
     "output_type": "execute_result"
    }
   ],
   "source": [
    "df['formatted']"
   ]
  },
  {
   "cell_type": "code",
   "execution_count": null,
   "metadata": {},
   "outputs": [],
   "source": []
  }
 ],
 "metadata": {
  "kernelspec": {
   "display_name": "Python 3",
   "language": "python",
   "name": "python3"
  },
  "language_info": {
   "codemirror_mode": {
    "name": "ipython",
    "version": 3
   },
   "file_extension": ".py",
   "mimetype": "text/x-python",
   "name": "python",
   "nbconvert_exporter": "python",
   "pygments_lexer": "ipython3",
   "version": "3.7.4"
  }
 },
 "nbformat": 4,
 "nbformat_minor": 2
}
