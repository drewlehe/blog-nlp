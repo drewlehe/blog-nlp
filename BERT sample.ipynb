{
 "cells": [
  {
   "cell_type": "code",
   "execution_count": 1,
   "metadata": {},
   "outputs": [
    {
     "data": {
      "text/html": [
       "<div>\n",
       "<style scoped>\n",
       "    .dataframe tbody tr th:only-of-type {\n",
       "        vertical-align: middle;\n",
       "    }\n",
       "\n",
       "    .dataframe tbody tr th {\n",
       "        vertical-align: top;\n",
       "    }\n",
       "\n",
       "    .dataframe thead th {\n",
       "        text-align: right;\n",
       "    }\n",
       "</style>\n",
       "<table border=\"1\" class=\"dataframe\">\n",
       "  <thead>\n",
       "    <tr style=\"text-align: right;\">\n",
       "      <th></th>\n",
       "      <th>id</th>\n",
       "      <th>gender</th>\n",
       "      <th>age</th>\n",
       "      <th>topic</th>\n",
       "      <th>sign</th>\n",
       "      <th>date</th>\n",
       "      <th>text</th>\n",
       "    </tr>\n",
       "  </thead>\n",
       "  <tbody>\n",
       "    <tr>\n",
       "      <th>490961</th>\n",
       "      <td>2761662</td>\n",
       "      <td>female</td>\n",
       "      <td>26</td>\n",
       "      <td>Education</td>\n",
       "      <td>Libra</td>\n",
       "      <td>21,July,2004</td>\n",
       "      <td>&amp;nbsp;There is a spider--a big, black,...</td>\n",
       "    </tr>\n",
       "    <tr>\n",
       "      <th>90528</th>\n",
       "      <td>3113729</td>\n",
       "      <td>male</td>\n",
       "      <td>27</td>\n",
       "      <td>Communications-Media</td>\n",
       "      <td>Capricorn</td>\n",
       "      <td>07,June,2004</td>\n",
       "      <td>...is, like, hands down my fa...</td>\n",
       "    </tr>\n",
       "    <tr>\n",
       "      <th>591711</th>\n",
       "      <td>3991547</td>\n",
       "      <td>male</td>\n",
       "      <td>48</td>\n",
       "      <td>Communications-Media</td>\n",
       "      <td>Capricorn</td>\n",
       "      <td>22,July,2004</td>\n",
       "      <td>Spammers   About 85% of the mail in yo...</td>\n",
       "    </tr>\n",
       "    <tr>\n",
       "      <th>41838</th>\n",
       "      <td>888601</td>\n",
       "      <td>female</td>\n",
       "      <td>24</td>\n",
       "      <td>indUnk</td>\n",
       "      <td>Libra</td>\n",
       "      <td>19,February,2003</td>\n",
       "      <td>Thursday February 20, 2003   Why do all...</td>\n",
       "    </tr>\n",
       "    <tr>\n",
       "      <th>273246</th>\n",
       "      <td>3702804</td>\n",
       "      <td>male</td>\n",
       "      <td>43</td>\n",
       "      <td>Communications-Media</td>\n",
       "      <td>Aries</td>\n",
       "      <td>07,July,2004</td>\n",
       "      <td>From Brand Autopsy:    Being vi...</td>\n",
       "    </tr>\n",
       "  </tbody>\n",
       "</table>\n",
       "</div>"
      ],
      "text/plain": [
       "             id  gender  age                 topic       sign  \\\n",
       "490961  2761662  female   26             Education      Libra   \n",
       "90528   3113729    male   27  Communications-Media  Capricorn   \n",
       "591711  3991547    male   48  Communications-Media  Capricorn   \n",
       "41838    888601  female   24                indUnk      Libra   \n",
       "273246  3702804    male   43  Communications-Media      Aries   \n",
       "\n",
       "                    date                                               text  \n",
       "490961      21,July,2004          &nbsp;There is a spider--a big, black,...  \n",
       "90528       07,June,2004                   ...is, like, hands down my fa...  \n",
       "591711      22,July,2004          Spammers   About 85% of the mail in yo...  \n",
       "41838   19,February,2003         Thursday February 20, 2003   Why do all...  \n",
       "273246      07,July,2004                 From Brand Autopsy:    Being vi...  "
      ]
     },
     "execution_count": 1,
     "metadata": {},
     "output_type": "execute_result"
    }
   ],
   "source": [
    "import pandas as pd\n",
    "import numpy as np\n",
    "df = pd.read_csv('blogtext.csv').sample(4000)\n",
    "df.head()"
   ]
  },
  {
   "cell_type": "code",
   "execution_count": 2,
   "metadata": {},
   "outputs": [
    {
     "name": "stdout",
     "output_type": "stream",
     "text": [
      "(1960,) (1960, 2)\n",
      "(840,) (840, 2)\n",
      "(1200,) (1200, 2)\n"
     ]
    }
   ],
   "source": [
    "X=df['text'].astype(str)\n",
    "Y=pd.get_dummies(df['gender'])\n",
    "from sklearn.model_selection import train_test_split\n",
    "X_train, X_test, Y_train, Y_test = train_test_split(X,Y, test_size = 0.30, random_state = 100)\n",
    "X_train, X_valid, Y_train, Y_valid = train_test_split(X_train,Y_train, test_size = 0.30, random_state = 100)\n",
    "print(X_train.shape,Y_train.shape)\n",
    "print(X_valid.shape,Y_valid.shape)\n",
    "print(X_test.shape,Y_test.shape)"
   ]
  },
  {
   "cell_type": "code",
   "execution_count": 3,
   "metadata": {},
   "outputs": [
    {
     "data": {
      "text/plain": [
       "(1960,)"
      ]
     },
     "execution_count": 3,
     "metadata": {},
     "output_type": "execute_result"
    }
   ],
   "source": [
    "from transformers import BertTokenizer\n",
    "tokenizer = BertTokenizer.from_pretrained('bert-base-uncased', do_lower_case=True)\n",
    "train_tokens = X_train.map(lambda t: ['[CLS]'] + tokenizer.tokenize(t)[:64])\n",
    "test_tokens = X_test.apply(lambda t: ['[CLS]'] + tokenizer.tokenize(t)[:64])\n",
    "train_tokens_ids = pd.Series(train_tokens).apply(tokenizer.convert_tokens_to_ids)\n",
    "test_tokens_ids = pd.Series(test_tokens).apply(tokenizer.convert_tokens_to_ids)\n",
    "train_tokens_ids.shape"
   ]
  },
  {
   "cell_type": "code",
   "execution_count": 4,
   "metadata": {},
   "outputs": [
    {
     "name": "stderr",
     "output_type": "stream",
     "text": [
      "Using TensorFlow backend.\n"
     ]
    }
   ],
   "source": [
    "#Do I need this step?\n",
    "import keras\n",
    "from keras.preprocessing.sequence import pad_sequences\n",
    "train_tokens_ids = pad_sequences(train_tokens_ids, maxlen=64, truncating=\"post\", padding=\"post\", dtype=\"int\")\n",
    "test_tokens_ids = pad_sequences(test_tokens_ids, maxlen=64, truncating=\"post\", padding=\"post\", dtype=\"int\")"
   ]
  },
  {
   "cell_type": "code",
   "execution_count": 5,
   "metadata": {},
   "outputs": [],
   "source": [
    "import torch\n",
    "from torch import nn\n",
    "from torch.utils.data import TensorDataset, DataLoader, RandomSampler, SequentialSampler\n",
    "BATCH_SIZE = 64\n",
    "test_y = np.array(Y_test)\n",
    "train_y = np.array(Y_train)\n",
    "train_tokens_tensor = torch.LongTensor(train_tokens_ids)\n",
    "train_y_tensor = torch.from_numpy(train_y)\n",
    "test_tokens_tensor = torch.LongTensor(test_tokens_ids)\n",
    "test_y_tensor = torch.from_numpy(test_y)\n",
    "train_dataset = TensorDataset(train_tokens_tensor, train_y_tensor)\n",
    "train_sampler = RandomSampler(train_dataset)\n",
    "train_dataloader = DataLoader(train_dataset, sampler=train_sampler, batch_size=BATCH_SIZE)\n",
    "test_dataset = TensorDataset(test_tokens_tensor, test_y_tensor)\n",
    "test_sampler = SequentialSampler(test_dataset)\n",
    "test_dataloader = DataLoader(test_dataset, sampler=test_sampler, batch_size=BATCH_SIZE)"
   ]
  },
  {
   "cell_type": "code",
   "execution_count": null,
   "metadata": {},
   "outputs": [],
   "source": [
    "from transformers import AdamW, BertForSequenceClassification, BertModel, BertConfig\n",
    "EPOCHS=3\n",
    "model = BertForSequenceClassification.from_pretrained('bert-base-uncased')\n",
    "optimizer = AdamW(model.parameters(), lr=3e-6)\n",
    "for epoch_num in range(EPOCHS):\n",
    "    for step_num, batch_data in enumerate(train_dataloader):\n",
    "        token_ids, labels = [t for t in batch_data]\n",
    "        outputs = model(input_ids=token_ids, labels=labels[:,0].long())\n",
    "        loss = outputs[0]\n",
    "        model.zero_grad()\n",
    "        loss.backward()\n",
    "        optimizer.step()"
   ]
  },
  {
   "cell_type": "code",
   "execution_count": null,
   "metadata": {},
   "outputs": [],
   "source": [
    "outputs"
   ]
  }
 ],
 "metadata": {
  "kernelspec": {
   "display_name": "Python 3",
   "language": "python",
   "name": "python3"
  },
  "language_info": {
   "codemirror_mode": {
    "name": "ipython",
    "version": 3
   },
   "file_extension": ".py",
   "mimetype": "text/x-python",
   "name": "python",
   "nbconvert_exporter": "python",
   "pygments_lexer": "ipython3",
   "version": "3.7.6"
  }
 },
 "nbformat": 4,
 "nbformat_minor": 4
}
