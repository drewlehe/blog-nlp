{
 "cells": [
  {
   "cell_type": "code",
   "execution_count": 1,
   "metadata": {},
   "outputs": [],
   "source": [
    "import pandas as pd\n",
    "import numpy as np\n",
    "import gensim"
   ]
  },
  {
   "cell_type": "code",
   "execution_count": 2,
   "metadata": {},
   "outputs": [
    {
     "data": {
      "text/html": [
       "<div>\n",
       "<style scoped>\n",
       "    .dataframe tbody tr th:only-of-type {\n",
       "        vertical-align: middle;\n",
       "    }\n",
       "\n",
       "    .dataframe tbody tr th {\n",
       "        vertical-align: top;\n",
       "    }\n",
       "\n",
       "    .dataframe thead th {\n",
       "        text-align: right;\n",
       "    }\n",
       "</style>\n",
       "<table border=\"1\" class=\"dataframe\">\n",
       "  <thead>\n",
       "    <tr style=\"text-align: right;\">\n",
       "      <th></th>\n",
       "      <th>id</th>\n",
       "      <th>gender</th>\n",
       "      <th>age</th>\n",
       "      <th>topic</th>\n",
       "      <th>sign</th>\n",
       "      <th>date</th>\n",
       "      <th>text</th>\n",
       "    </tr>\n",
       "  </thead>\n",
       "  <tbody>\n",
       "    <tr>\n",
       "      <th>602153</th>\n",
       "      <td>2339326</td>\n",
       "      <td>male</td>\n",
       "      <td>34</td>\n",
       "      <td>Non-Profit</td>\n",
       "      <td>Taurus</td>\n",
       "      <td>08,June,2004</td>\n",
       "      <td>Hello all, I got an email from Bruc...</td>\n",
       "    </tr>\n",
       "    <tr>\n",
       "      <th>70739</th>\n",
       "      <td>3368101</td>\n",
       "      <td>male</td>\n",
       "      <td>17</td>\n",
       "      <td>Student</td>\n",
       "      <td>Scorpio</td>\n",
       "      <td>16,July,2004</td>\n",
       "      <td>Well ladies and gents, Im back. Its bee...</td>\n",
       "    </tr>\n",
       "    <tr>\n",
       "      <th>122014</th>\n",
       "      <td>3776941</td>\n",
       "      <td>male</td>\n",
       "      <td>39</td>\n",
       "      <td>indUnk</td>\n",
       "      <td>Libra</td>\n",
       "      <td>08,July,2004</td>\n",
       "      <td>Came across this great article in this ...</td>\n",
       "    </tr>\n",
       "    <tr>\n",
       "      <th>245431</th>\n",
       "      <td>2869197</td>\n",
       "      <td>male</td>\n",
       "      <td>17</td>\n",
       "      <td>Student</td>\n",
       "      <td>Aries</td>\n",
       "      <td>02,July,2004</td>\n",
       "      <td>Today was a high as well as a low. ...</td>\n",
       "    </tr>\n",
       "    <tr>\n",
       "      <th>98871</th>\n",
       "      <td>2473007</td>\n",
       "      <td>male</td>\n",
       "      <td>27</td>\n",
       "      <td>Education</td>\n",
       "      <td>Aries</td>\n",
       "      <td>08,August,2004</td>\n",
       "      <td>A talkative brook, 20 feet wide and...</td>\n",
       "    </tr>\n",
       "  </tbody>\n",
       "</table>\n",
       "</div>"
      ],
      "text/plain": [
       "             id gender  age       topic     sign            date  \\\n",
       "602153  2339326   male   34  Non-Profit   Taurus    08,June,2004   \n",
       "70739   3368101   male   17     Student  Scorpio    16,July,2004   \n",
       "122014  3776941   male   39      indUnk    Libra    08,July,2004   \n",
       "245431  2869197   male   17     Student    Aries    02,July,2004   \n",
       "98871   2473007   male   27   Education    Aries  08,August,2004   \n",
       "\n",
       "                                                     text  \n",
       "602153             Hello all, I got an email from Bruc...  \n",
       "70739          Well ladies and gents, Im back. Its bee...  \n",
       "122014         Came across this great article in this ...  \n",
       "245431             Today was a high as well as a low. ...  \n",
       "98871              A talkative brook, 20 feet wide and...  "
      ]
     },
     "execution_count": 2,
     "metadata": {},
     "output_type": "execute_result"
    }
   ],
   "source": [
    "df = pd.read_csv('blogtext.csv').sample(50000)\n",
    "df.head()"
   ]
  },
  {
   "cell_type": "code",
   "execution_count": 3,
   "metadata": {},
   "outputs": [
    {
     "name": "stdout",
     "output_type": "stream",
     "text": [
      "CPU times: user 7.14 s, sys: 479 ms, total: 7.62 s\n",
      "Wall time: 1min 11s\n"
     ]
    }
   ],
   "source": [
    "%%time\n",
    "# df = df.sample(50000)\n",
    "#Here we import my custom cleaner script, clean.py. I parallelize the function to run faster here, to work when scaling. \n",
    "#Using 11 threads to run the script and 1 to manage the multiprocessing.\n",
    "import clean\n",
    "from joblib import Parallel, delayed\n",
    "df['tokens'] = Parallel(n_jobs=11)(delayed(clean.clean)(line) for line in df['text'])"
   ]
  },
  {
   "cell_type": "code",
   "execution_count": 4,
   "metadata": {},
   "outputs": [
    {
     "data": {
      "text/plain": [
       "602153    hello all email bruce today email him ask how ...\n",
       "70739     good lady gent back age last blogged reason bl...\n",
       "122014    come great article week have edition spectator...\n",
       "245431    today high good low rise fly land waddle muck ...\n",
       "98871     talkative brook foot wide colour burn midnight...\n",
       "Name: token_str, dtype: object"
      ]
     },
     "execution_count": 4,
     "metadata": {},
     "output_type": "execute_result"
    }
   ],
   "source": [
    "#Some packages only want the tokens fed as a string. Others want a list of strings.\n",
    "df['token_str'] = df['tokens'].map(lambda x: ' '.join(x))\n",
    "df['token_str'].head()"
   ]
  },
  {
   "cell_type": "markdown",
   "metadata": {},
   "source": [
    "# Machine Learning Pre-Processing\n",
    "Here we convert string labels into numbers (label-encoding). Next we vectorize all words into tf-idf vectors.\n",
    "Note that I dropped all words which appear in over 67% of documents and those that appear in less than 5 documents. This step helps filter out noisy words and only keep the significant ones. \n",
    "max_features determines the max # of words to keep in the vocabulary."
   ]
  },
  {
   "cell_type": "code",
   "execution_count": 5,
   "metadata": {},
   "outputs": [],
   "source": [
    "from sklearn import preprocessing\n",
    "le = preprocessing.LabelEncoder()\n",
    "y=le.fit_transform(df['gender'])\n",
    "X=df['token_str']\n",
    "from sklearn.model_selection import train_test_split\n",
    "X_train, X_test, y_train, y_test = train_test_split(X,y, random_state=42)"
   ]
  },
  {
   "cell_type": "code",
   "execution_count": 6,
   "metadata": {},
   "outputs": [],
   "source": [
    "from sklearn.metrics import f1_score, balanced_accuracy_score, accuracy_score, classification_report, roc_auc_score\n",
    "from sklearn.feature_extraction.text import TfidfVectorizer\n",
    "tfid = TfidfVectorizer(min_df=5, max_df=0.67, smooth_idf=True,\n",
    "                       norm = 'l2', ngram_range=[1,2], max_features=150000)\n",
    "tfid_train_matrix = tfid.fit_transform(X_train)\n",
    "tfid_test_matrix = tfid.transform(X_test)"
   ]
  },
  {
   "cell_type": "markdown",
   "metadata": {},
   "source": [
    "# Building the Machine Learning Model\n",
    "Here I'm using XGBoost's \"boosted random forest\" implementation, which is, so far, the only algorithm that delivers an F1 score over .69. \n",
    "\n",
    "Boosted random forest is simply the normal boosted trees algorithm, but at each cycle, it creates num_parallel_tree mini-decision trees. On this dataset, it's resulted in drastically increased accuracy, but be warned, it's much more computationally intensive. Increased runtimes can be drastically reduced by selecting the 'gpu_hist' method, but currently support for CUDA drivers is mixed.\n",
    "\n",
    "Use the nthread parameter to determine how many CPU cores you want to run the algorithm simultaneously. Currently, XGBoost defaults to (# of cores -1).\n",
    "\n",
    "learning_rate is how much XGBoost learns from the mini decision trees at each cycle."
   ]
  },
  {
   "cell_type": "code",
   "execution_count": 7,
   "metadata": {},
   "outputs": [
    {
     "name": "stdout",
     "output_type": "stream",
     "text": [
      "ROC score:  0.593228340518287\n",
      "F1 score:  0.6458042932812936\n",
      "[[2785 3456]\n",
      " [1626 4633]]\n"
     ]
    }
   ],
   "source": [
    "%%time\n",
    "# If your computer has a GPU, you should set the booster parameter to 'gpu_hist', \n",
    "# and possibly bring the subsample size up. With a faster-running tool you could increase the number of estimators\n",
    "# and num_parallel_tree as well.'''\n",
    "\n",
    "from sklearn.metrics import roc_curve\n",
    "from sklearn import metrics\n",
    "from xgboost import XGBClassifier\n",
    "clf = XGBClassifier(n_estimators=500, learning_rate=0.0875, max_depth=6, nthread=11, \n",
    "                    num_parallel_tree=3, subsample=0.85)\n",
    "clf.fit(tfid_train_matrix, y_train)\n",
    "y_preds=clf.predict(tfid_test_matrix)\n",
    "print('ROC score: ', roc_auc_score(y_test, y_preds))\n",
    "print(\"F1 score: \", metrics.f1_score(y_test , y_preds))\n",
    "print(metrics.confusion_matrix(y_test , y_preds))"
   ]
  },
  {
   "cell_type": "code",
   "execution_count": null,
   "metadata": {},
   "outputs": [],
   "source": [
    "from joblib import dump\n",
    "# dump(clf, 'xgbooster')\n",
    "# dump(tfid.vocabulary_, 'feature')\n",
    "#Save the tfid_test_matrix for SHAP\n",
    "# pd.DataFrame(tfid_test_matrix).to_csv('tfid_test.csv')\n",
    "# X_test.to_csv('X_test.csv')"
   ]
  },
  {
   "cell_type": "code",
   "execution_count": 10,
   "metadata": {},
   "outputs": [
    {
     "data": {
      "text/plain": [
       "<1x106228 sparse matrix of type '<class 'numpy.float64'>'\n",
       "\twith 3 stored elements in Compressed Sparse Row format>"
      ]
     },
     "execution_count": 10,
     "metadata": {},
     "output_type": "execute_result"
    }
   ],
   "source": [
    "tfid_train_matrix[20]"
   ]
  }
 ],
 "metadata": {
  "kernelspec": {
   "display_name": "Python 3",
   "language": "python",
   "name": "python3"
  },
  "language_info": {
   "codemirror_mode": {
    "name": "ipython",
    "version": 3
   },
   "file_extension": ".py",
   "mimetype": "text/x-python",
   "name": "python",
   "nbconvert_exporter": "python",
   "pygments_lexer": "ipython3",
   "version": "3.6.10"
  }
 },
 "nbformat": 4,
 "nbformat_minor": 4
}
